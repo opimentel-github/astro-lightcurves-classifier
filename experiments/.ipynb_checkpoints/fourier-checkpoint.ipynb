{
 "cells": [
  {
   "cell_type": "code",
   "execution_count": 1,
   "metadata": {},
   "outputs": [],
   "source": [
    "import sys\n",
    "sys.path.append('../') # or just install the module\n",
    "sys.path.append('../../fuzzy-torch') # or just install the module\n",
    "sys.path.append('../../fuzzy-tools') # or just install the module\n",
    "sys.path.append('../../astro-lightcurves-handler') # or just install the module"
   ]
  },
  {
   "cell_type": "code",
   "execution_count": 12,
   "metadata": {},
   "outputs": [
    {
     "ename": "NameError",
     "evalue": "name 'self' is not defined",
     "output_type": "error",
     "traceback": [
      "\u001b[0;31m---------------------------------------------------------------------------\u001b[0m",
      "\u001b[0;31mNameError\u001b[0m                                 Traceback (most recent call last)",
      "\u001b[0;32m<ipython-input-12-500e3e26a584>\u001b[0m in \u001b[0;36m<module>\u001b[0;34m\u001b[0m\n\u001b[1;32m     29\u001b[0m \u001b[0;34m\u001b[0m\u001b[0m\n\u001b[1;32m     30\u001b[0m \u001b[0mte_ws\u001b[0m\u001b[0;34m,\u001b[0m \u001b[0mte_phases\u001b[0m \u001b[0;34m=\u001b[0m \u001b[0mgenerate_initial_tensors\u001b[0m\u001b[0;34m(\u001b[0m\u001b[0;34m)\u001b[0m\u001b[0;34m\u001b[0m\u001b[0;34m\u001b[0m\u001b[0m\n\u001b[0;32m---> 31\u001b[0;31m \u001b[0mte_scales\u001b[0m \u001b[0;34m=\u001b[0m \u001b[0mself\u001b[0m\u001b[0;34m.\u001b[0m\u001b[0mget_te_gate\u001b[0m\u001b[0;34m(\u001b[0m\u001b[0;34m)\u001b[0m\u001b[0;34m\u001b[0m\u001b[0;34m\u001b[0m\u001b[0m\n\u001b[0m\u001b[1;32m     32\u001b[0m \u001b[0mtime\u001b[0m \u001b[0;34m=\u001b[0m \u001b[0mtorch\u001b[0m\u001b[0;34m.\u001b[0m\u001b[0mTensor\u001b[0m\u001b[0;34m(\u001b[0m\u001b[0;34m[\u001b[0m\u001b[0;36m0\u001b[0m\u001b[0;34m,\u001b[0m \u001b[0;36m10\u001b[0m\u001b[0;34m,\u001b[0m \u001b[0;36m20\u001b[0m\u001b[0;34m,\u001b[0m \u001b[0;36m50\u001b[0m\u001b[0;34m,\u001b[0m \u001b[0;36m80\u001b[0m\u001b[0;34m]\u001b[0m\u001b[0;34m)\u001b[0m\u001b[0;34m[\u001b[0m\u001b[0;32mNone\u001b[0m\u001b[0;34m,\u001b[0m\u001b[0;34m:\u001b[0m\u001b[0;34m,\u001b[0m\u001b[0;32mNone\u001b[0m\u001b[0;34m]\u001b[0m\u001b[0;34m\u001b[0m\u001b[0;34m\u001b[0m\u001b[0m\n\u001b[1;32m     33\u001b[0m \u001b[0mprint\u001b[0m\u001b[0;34m(\u001b[0m\u001b[0mtime\u001b[0m\u001b[0;34m.\u001b[0m\u001b[0mshape\u001b[0m\u001b[0;34m)\u001b[0m\u001b[0;34m\u001b[0m\u001b[0;34m\u001b[0m\u001b[0m\n",
      "\u001b[0;31mNameError\u001b[0m: name 'self' is not defined"
     ]
    }
   ],
   "source": [
    "import numpy as np\n",
    "import matplotlib.pyplot as plt\n",
    "from fuzzytools.cuteplots.animations import PlotAnimation\n",
    "import torch\n",
    "import math\n",
    "\n",
    "dims = 6\n",
    "max_te_period = 125\n",
    "def generate_initial_tensors():\n",
    "    n = dims//2\n",
    "    periods = np.repeat(np.array([max_te_period/(i+1) for i in np.arange(n)]), 2, axis=0).astype(np.float32)\n",
    "    phases = np.array([math.pi/2 if i%2==0 else 0 for i in range(0, 2*n)]).astype(np.float32)\n",
    "    return periods, phases\n",
    "    \n",
    "def _te(te_ws, te_phases, te_scales, time):\n",
    "    '''\n",
    "    te_ws (f)\n",
    "    te_phases (f)\n",
    "    time (b,t)\n",
    "    '''\n",
    "    b,t = time.size()\n",
    "    encoding = torch.zeros((b, t, len(te_phases)), device=time.device) # (b,t,f)\n",
    "    for i in range(0, len(te_ws)):\n",
    "        w = te_ws[i]\n",
    "        phi = te_phases[i]\n",
    "        scale = te_scales[i]\n",
    "        encoding[...,i] = scale*torch.sin(w*time+phi)\n",
    "    return encoding\n",
    "\n",
    "te_ws, te_phases = generate_initial_tensors()\n",
    "te_scales = self.get_te_gate()\n",
    "time = torch.Tensor([0, 10, 20, 50, 80])[None,:,None]\n",
    "print(time.shape)\n",
    "encoding = _te(te_ws, te_phases, te_scales, time)\n",
    "print(encoding.shape)"
   ]
  },
  {
   "cell_type": "code",
   "execution_count": 27,
   "metadata": {},
   "outputs": [
    {
     "data": {
      "text/plain": [
       "array([1.        , 1.        , 0.9048374 , 0.9048374 , 0.8187308 ,\n",
       "       0.8187308 , 0.7408182 , 0.7408182 , 0.67032003, 0.67032003,\n",
       "       0.60653067, 0.60653067], dtype=float32)"
      ]
     },
     "execution_count": 27,
     "metadata": {},
     "output_type": "execute_result"
    }
   ],
   "source": [
    "n = 6\n",
    "k_exp = 1e-1\n",
    "a = np.array([math.exp(-math.floor(i/2)*k_exp) for i in range(0, 2*n)]).astype(np.float32)\n",
    "a"
   ]
  },
  {
   "cell_type": "code",
   "execution_count": 3,
   "metadata": {},
   "outputs": [
    {
     "data": {
      "image/png": "[encoded data removed]",
      "text/plain": [
       "<Figure size 720x288 with 1 Axes>"
      ]
     },
     "metadata": {
      "needs_background": "light"
     },
     "output_type": "display_data"
    }
   ],
   "source": [
    "import numpy as np\n",
    "import matplotlib.pyplot as plt\n",
    "from fuzzytools.cuteplots.animations import PlotAnimation\n",
    "import torch\n",
    "\n",
    "def get_random_f(T):\n",
    "    a, b = np.random.uniform(-1, 1, size=(2))\n",
    "    return get_fourier_serie(a,b,T)\n",
    "\n",
    "def get_fourier_serie(a, b, T):\n",
    "    return a*np.sin(2*np.pi*t/T)+b*np.cos(2*np.pi*t/T)\n",
    "\n",
    "m = 100\n",
    "animation = PlotAnimation(10, init_offset=0, end_offset=0, is_dummy=True)\n",
    "for _ in range(m):\n",
    "    fig, ax = plt.subplots(1,1, figsize=(10,4))\n",
    "    t = np.linspace(0,100,1000)\n",
    "    T = 110\n",
    "    n = 2\n",
    "    alpha = sum([get_random_f(T/(i+1)) for i in range(0,n//2)])\n",
    "    beta = sum([get_random_f(T/(i+1)) for i in range(0,n//2)])\n",
    "    ax.plot(t, alpha, 'r', label='scale')\n",
    "    ax.plot(t, beta, 'g', label='bias')\n",
    "    ax.set_title(f'N={n}')\n",
    "    ax.grid(alpha=0.5)\n",
    "    ax.legend(loc='upper left')\n",
    "    ax.set_ylim([-5,5])\n",
    "    ax.set_xlabel('time [days]')\n",
    "    plt.plot(); break\n",
    "    animation.append(fig)\n",
    "    \n",
    "animation.save(f'../temp/fourier{n}.gif')"
   ]
  }
 ],
 "metadata": {
  "kernelspec": {
   "display_name": "Python 3",
   "language": "python",
   "name": "python3"
  },
  "language_info": {
   "codemirror_mode": {
    "name": "ipython",
    "version": 3
   },
   "file_extension": ".py",
   "mimetype": "text/x-python",
   "name": "python",
   "nbconvert_exporter": "python",
   "pygments_lexer": "ipython3",
   "version": "3.7.10"
  }
 },
 "nbformat": 4,
 "nbformat_minor": 4
}
