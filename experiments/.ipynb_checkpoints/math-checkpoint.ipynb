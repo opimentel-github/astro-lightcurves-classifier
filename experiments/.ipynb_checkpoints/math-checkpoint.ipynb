{
 "cells": [
  {
   "cell_type": "code",
   "execution_count": 26,
   "metadata": {},
   "outputs": [
    {
     "name": "stdout",
     "output_type": "stream",
     "text": [
      "(2, 2)\n",
      "[[-0.66983552 -0.26705875]\n",
      " [ 0.74250951 -0.96368025]] [0.26705875 0.96368025]\n"
     ]
    }
   ],
   "source": [
    "import numpy as np\n",
    "\n",
    "a = np.array([[1,2], [8,6]])\n",
    "print(a.shape)\n",
    "x = [1,1]\n",
    "for _ in range(10000):\n",
    "    x = a@x\n",
    "    x = x/np.sqrt(np.sum(x**2))\n",
    "    \n",
    "w,v = np.linalg.eig(a)\n",
    "print(v,x)"
   ]
  }
 ],
 "metadata": {
  "kernelspec": {
   "display_name": "Python 3",
   "language": "python",
   "name": "python3"
  },
  "language_info": {
   "codemirror_mode": {
    "name": "ipython",
    "version": 3
   },
   "file_extension": ".py",
   "mimetype": "text/x-python",
   "name": "python",
   "nbconvert_exporter": "python",
   "pygments_lexer": "ipython3",
   "version": "3.7.9"
  }
 },
 "nbformat": 4,
 "nbformat_minor": 4
}
