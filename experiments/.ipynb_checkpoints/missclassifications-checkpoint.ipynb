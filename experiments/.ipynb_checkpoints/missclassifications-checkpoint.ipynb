{
 "cells": [
  {
   "cell_type": "code",
   "execution_count": 66,
   "id": "5c46592a",
   "metadata": {},
   "outputs": [],
   "source": [
    "import sys\n",
    "sys.path.append('../') # or just install the module\n",
    "sys.path.append('../../fuzzy-tools') # or just install the module\n",
    "sys.path.append('../../astro-lightcurves-handler') # or just install the module"
   ]
  },
  {
   "cell_type": "code",
   "execution_count": 67,
   "id": "da63ae8f",
   "metadata": {},
   "outputs": [
    {
     "name": "stdout",
     "output_type": "stream",
     "text": [
      "The autoreload extension is already loaded. To reload it, use:\n",
      "  %reload_ext autoreload\n"
     ]
    },
    {
     "data": {
      "text/plain": [
       "['mdl=ParallelTimeModAttn~input_dims=1~m=2~kernel_size=1~heads=4~fourier_dims=1~time_noise_window=0*24**-1~enc_emb=g64-g64.r64-r64~dec_emb=g1-g128.r1-r128~b=129',\n",
       " 'mdl=SerialTimeModAttn~input_dims=1~m=2~kernel_size=1~heads=4~fourier_dims=1~time_noise_window=0*24**-1~enc_emb=128-128~dec_emb=g1-g128.r1-r128~b=129',\n",
       " 'mdl=ParallelTimeModAttn~input_dims=1~m=2~kernel_size=1~heads=4~fourier_dims=1~time_noise_window=12*24**-1~enc_emb=g64-g64.r64-r64~dec_emb=g1-g128.r1-r128~b=129',\n",
       " 'mdl=ParallelTimeModAttn~input_dims=1~m=4~kernel_size=1~heads=4~fourier_dims=1~time_noise_window=0*24**-1~enc_emb=g64-g64.r64-r64~dec_emb=g1-g128.r1-r128~b=129',\n",
       " 'mdl=SerialTimeModAttn~input_dims=1~m=4~kernel_size=1~heads=4~fourier_dims=1~time_noise_window=0*24**-1~enc_emb=128-128~dec_emb=g1-g128.r1-r128~b=129',\n",
       " 'mdl=ParallelTimeModAttn~input_dims=1~m=2~kernel_size=1~heads=4~fourier_dims=1~time_noise_window=24*24**-1~enc_emb=g64-g64.r64-r64~dec_emb=g1-g128.r1-r128~b=129',\n",
       " 'mdl=SerialTimeModAttn~input_dims=1~m=8~kernel_size=1~heads=4~fourier_dims=1~time_noise_window=0*24**-1~enc_emb=128-128~dec_emb=g1-g128.r1-r128~b=129',\n",
       " 'mdl=SerialTimeModAttn~input_dims=1~m=16~kernel_size=1~heads=4~fourier_dims=1~time_noise_window=0*24**-1~enc_emb=128-128~dec_emb=g1-g128.r1-r128~b=129',\n",
       " 'mdl=ParallelRNN~input_dims=1~enc_emb=g64-g64.r64-r64~dec_emb=g1-g128.r1-r128~cell=GRU~b=129',\n",
       " 'mdl=ParallelRNN~input_dims=1~enc_emb=g64-g64.r64-r64~dec_emb=g1-g128.r1-r128~cell=LSTM~b=129',\n",
       " 'mdl=SerialRNN~input_dims=1~enc_emb=128-128~dec_emb=g1-g128.r1-r128~cell=GRU~b=129',\n",
       " 'mdl=SerialTimeModAttn~input_dims=1~m=2~kernel_size=1~heads=4~fourier_dims=1~time_noise_window=12*24**-1~enc_emb=128-128~dec_emb=g1-g128.r1-r128~b=129',\n",
       " 'mdl=ParallelTimeModAttn~input_dims=1~m=8~kernel_size=1~heads=4~fourier_dims=1~time_noise_window=0*24**-1~enc_emb=g64-g64.r64-r64~dec_emb=g1-g128.r1-r128~b=129',\n",
       " 'mdl=ParallelTimeModAttn~input_dims=1~m=16~kernel_size=1~heads=4~fourier_dims=1~time_noise_window=0*24**-1~enc_emb=g64-g64.r64-r64~dec_emb=g1-g128.r1-r128~b=129',\n",
       " 'mdl=SerialTimeModAttn~input_dims=1~m=2~kernel_size=1~heads=4~fourier_dims=1~time_noise_window=6*24**-1~enc_emb=128-128~dec_emb=g1-g128.r1-r128~b=129',\n",
       " 'mdl=SerialRNN~input_dims=1~enc_emb=128-128~dec_emb=g1-g128.r1-r128~cell=LSTM~b=129',\n",
       " 'mdl=ParallelTimeModAttn~input_dims=1~m=16~kernel_size=1~heads=4~fourier_dims=1~time_noise_window=6*24**-1~enc_emb=g64-g64.r64-r64~dec_emb=g1-g128.r1-r128~b=129',\n",
       " 'mdl=ParallelTimeModAttn~input_dims=1~m=2~kernel_size=1~heads=4~fourier_dims=1~time_noise_window=6*24**-1~enc_emb=g64-g64.r64-r64~dec_emb=g1-g128.r1-r128~b=129',\n",
       " 'mdl=SerialTimeModAttn~input_dims=1~m=2~kernel_size=1~heads=4~fourier_dims=1~time_noise_window=24*24**-1~enc_emb=128-128~dec_emb=g1-g128.r1-r128~b=129']"
      ]
     },
     "execution_count": 67,
     "metadata": {},
     "output_type": "execute_result"
    }
   ],
   "source": [
    "%load_ext autoreload\n",
    "%autoreload 2\n",
    "from lcclassifier.results.utils import get_model_names\n",
    "\n",
    "lcset_name = 'test'\n",
    "rootdir = '../save'\n",
    "method = 'spm-mcmc-estw'\n",
    "cfilename = f'survey=alerceZTFv7.1~bands=gr~mode=onlySNe~method={method}'\n",
    "kf = '0'\n",
    "\n",
    "model_names = get_model_names(rootdir, cfilename, kf, lcset_name)\n",
    "#model_names = [mn for mn in model_names if 'SelfAttn' in mn]\n",
    "#model_names = [mn for mn in model_names if 'b=129' in mn]\n",
    "model_names"
   ]
  },
  {
   "cell_type": "code",
   "execution_count": null,
   "id": "1f1736eb",
   "metadata": {
    "scrolled": false
   },
   "outputs": [
    {
     "name": "stdout",
     "output_type": "stream",
     "text": [
      "The autoreload extension is already loaded. To reload it, use:\n",
      "  %reload_ext autoreload\n",
      "mdl=ParallelTimeModAttn~input_dims=1~m=16~kernel_size=1~heads=4~fourier_dims=1~time_noise_window=6*24**-1~enc_emb=g64-g64.r64-r64~dec_emb=g1-g128.r1-r128~b=129 ['id=1000c0', 'id=1000c1', 'id=1000c2', 'id=1001c0', 'id=1001c1', 'id=1001c2', 'id=1002c0', 'id=1002c1', 'id=1002c2', 'id=1003c0', 'id=1003c1', 'id=1003c2', 'id=1004c0', 'id=1004c1', 'id=1004c2'](15#)\n",
      "k=1; c=SNII-b-n; txt=ZTF19aapafqd [SLSN]\n",
      "k=39; c=SNII-b-n; txt=ZTF20aaurfwa [SLSN]\n",
      "k=53; c=SNII-b-n; txt=ZTF19aajwkbb [SLSN]\n",
      "k=66; c=SNII-b-n; txt=ZTF19acanzwg [SLSN]\n",
      "k=215; c=SNIa; txt=ZTF20aabqdbo [SNIbc]\n",
      "k=216; c=SNIa; txt=ZTF19aanhgqg [SNIbc]\n",
      "k=222; c=SNIa; txt=ZTF19aapeime [SNIbc]\n",
      "k=253; c=SNIa; txt=ZTF20abffaxl [SLSN]\n",
      "k=11; c=SNIbc; txt=ZTF19ackjszs [SLSN]\n",
      "k=15; c=SNIbc; txt=ZTF19acftclq [SNII-b-n]\n"
     ]
    }
   ],
   "source": [
    "%load_ext autoreload\n",
    "%autoreload 2\n",
    "import numpy as np\n",
    "import fuzzytools.files as ftfiles\n",
    "from fuzzytools.datascience import missclassifications\n",
    "import matplotlib.pyplot as plt\n",
    "\n",
    "model_name = 'mdl=ParallelTimeModAttn~input_dims=1~m=16~kernel_size=1~heads=4~fourier_dims=1~time_noise_window=6*24**-1~enc_emb=g64-g64.r64-r64~dec_emb=g1-g128.r1-r128~b=129'\n",
    "\n",
    "rootdir = '../save'\n",
    "train_mode = 'fine-tuning'\n",
    "load_roodir = f'{rootdir}/{model_name}/{train_mode}/performance/{cfilename}'\n",
    "files, files_ids = ftfiles.gather_files_by_kfold(load_roodir, kf, lcset_name,\n",
    "    fext='d',\n",
    "    disbalanced_kf_mode='ignore', # error oversampling\n",
    "    )\n",
    "print(f'{model_name} {files_ids}({len(files_ids)}#)')\n",
    "file = files[0]\n",
    "days = file()['days']\n",
    "days_predictions = file()['days_predictions'][days[-1]]\n",
    "y_pred_p = days_predictions['y_pred_p']\n",
    "y_true = days_predictions['y_true']\n",
    "class_names = file()['class_names']\n",
    "obj_ids = file()['lcobj_names']\n",
    "\n",
    "missclassifications.plot_missclassifications(y_pred_p, y_true, class_names,\n",
    "    obj_ids=obj_ids,\n",
    "    pred_prob_th=.8, # None .5\n",
    "    fontsize=10,\n",
    "    figsize=(22,18),\n",
    "    legend_loc='lower right',\n",
    "    verbose=1,\n",
    "    )\n",
    "plt.show()"
   ]
  }
 ],
 "metadata": {
  "kernelspec": {
   "display_name": "Python 3",
   "language": "python",
   "name": "python3"
  },
  "language_info": {
   "codemirror_mode": {
    "name": "ipython",
    "version": 3
   },
   "file_extension": ".py",
   "mimetype": "text/x-python",
   "name": "python",
   "nbconvert_exporter": "python",
   "pygments_lexer": "ipython3",
   "version": "3.7.10"
  }
 },
 "nbformat": 4,
 "nbformat_minor": 5
}
