{
 "cells": [
  {
   "cell_type": "code",
   "execution_count": 202,
   "metadata": {},
   "outputs": [],
   "source": [
    "import sys\n",
    "sys.path.append('../') # or just install the module\n",
    "sys.path.append('../../fuzzy-torch') # or just install the module\n",
    "sys.path.append('../../fuzzy-tools') # or just install the module\n",
    "sys.path.append('../../astro-lightcurves-handler') # or just install the module"
   ]
  },
  {
   "cell_type": "code",
   "execution_count": null,
   "metadata": {},
   "outputs": [
    {
     "name": "stdout",
     "output_type": "stream",
     "text": [
      "The autoreload extension is already loaded. To reload it, use:\n",
      "  %reload_ext autoreload\n"
     ]
    }
   ],
   "source": [
    "%load_ext autoreload\n",
    "%autoreload 2\n",
    "from lcclassifier.results.utils import get_model_names\n",
    "\n",
    "lcset_name = 'test'\n",
    "rootdir = '../save'\n",
    "method = 'spm-mcmc-estw'\n",
    "cfilename = f'survey=alerceZTFv7.1~bands=gr~mode=onlySNe~method={method}'\n",
    "kf = '0'\n",
    "\n",
    "model_names = get_model_names(rootdir, cfilename, kf, lcset_name)\n",
    "#model_names = [mn for mn in model_names if 'SelfAttn' in mn]\n",
    "#model_names = [mn for mn in model_names if 'kernel_size=5' in mn]\n",
    "model_names"
   ]
  },
  {
   "cell_type": "code",
   "execution_count": 228,
   "metadata": {
    "scrolled": false
   },
   "outputs": [
    {
     "name": "stdout",
     "output_type": "stream",
     "text": [
      "The autoreload extension is already loaded. To reload it, use:\n",
      "  %reload_ext autoreload\n",
      "mdl=ParallelRNN~input_dims=3~enc-emb=g64-g64-g64.r64-r64-r64~dec-emb=g32-g32.r32-r32~cell=GRU~b=128~s_precomputed_copies=8 [](0#)\n",
      "mdl=ParallelTimeModAttn~input_dims=2~m=16~kernel_size=2~fourier_dims=0.5~time_noise_window=1*24**-1~enc-emb=g64-g64-g64.r64-r64-r64~dec-emb=g32-g32.r32-r32~b=128~s_precomputed_copies=8 [](0#)\n"
     ]
    },
    {
     "ename": "UnboundLocalError",
     "evalue": "local variable 'survey' referenced before assignment",
     "output_type": "error",
     "traceback": [
      "\u001b[0;31m---------------------------------------------------------------------------\u001b[0m",
      "\u001b[0;31mUnboundLocalError\u001b[0m                         Traceback (most recent call last)",
      "\u001b[0;32m<ipython-input-228-0a37885cfd3b>\u001b[0m in \u001b[0;36m<module>\u001b[0;34m\u001b[0m\n\u001b[1;32m     15\u001b[0m     \u001b[0;34m'p'\u001b[0m\u001b[0;34m:\u001b[0m\u001b[0;32mNone\u001b[0m\u001b[0;34m,\u001b[0m \u001b[0;31m# None 5 10 25 30 50\u001b[0m\u001b[0;34m\u001b[0m\u001b[0;34m\u001b[0m\u001b[0m\n\u001b[1;32m     16\u001b[0m }\n\u001b[0;32m---> 17\u001b[0;31m \u001b[0mplot_metric\u001b[0m\u001b[0;34m(\u001b[0m\u001b[0mrootdir\u001b[0m\u001b[0;34m,\u001b[0m \u001b[0mcfilename\u001b[0m\u001b[0;34m,\u001b[0m \u001b[0mkf\u001b[0m\u001b[0;34m,\u001b[0m \u001b[0mlcset_name\u001b[0m\u001b[0;34m,\u001b[0m \u001b[0mmodel_names\u001b[0m\u001b[0;34m,\u001b[0m \u001b[0mdmetrics\u001b[0m\u001b[0;34m,\u001b[0m \u001b[0;34m**\u001b[0m\u001b[0mkwargs\u001b[0m\u001b[0;34m)\u001b[0m\u001b[0;34m\u001b[0m\u001b[0;34m\u001b[0m\u001b[0m\n\u001b[0m",
      "\u001b[0;32m~/tesis/astro-lightcurves-classifier/lcclassifier/results/plots.py\u001b[0m in \u001b[0;36mplot_metric\u001b[0;34m(rootdir, cfilename, kf, lcset_name, model_names, dmetrics, baselines_dict, figsize, train_mode, p, alpha)\u001b[0m\n\u001b[1;32m     64\u001b[0m                         \u001b[0mtitle\u001b[0m \u001b[0;34m=\u001b[0m \u001b[0;34m''\u001b[0m\u001b[0;34m\u001b[0m\u001b[0;34m\u001b[0m\u001b[0m\n\u001b[1;32m     65\u001b[0m                         \u001b[0mtitle\u001b[0m \u001b[0;34m+=\u001b[0m \u001b[0;34mf'{mn} v/s days'\u001b[0m\u001b[0;34m+\u001b[0m\u001b[0;34m'\\n'\u001b[0m\u001b[0;34m\u001b[0m\u001b[0;34m\u001b[0m\u001b[0m\n\u001b[0;32m---> 66\u001b[0;31m                         \u001b[0mtitle\u001b[0m \u001b[0;34m+=\u001b[0m \u001b[0;34mf'train-mode={train_mode} - survey={survey}-{\"\".join(band_names)} [{kf}@{lcset_name}]'\u001b[0m\u001b[0;34m+\u001b[0m\u001b[0;34m'\\n'\u001b[0m\u001b[0;34m\u001b[0m\u001b[0;34m\u001b[0m\u001b[0m\n\u001b[0m\u001b[1;32m     67\u001b[0m                         \u001b[0mfig\u001b[0m\u001b[0;34m.\u001b[0m\u001b[0msuptitle\u001b[0m\u001b[0;34m(\u001b[0m\u001b[0mtitle\u001b[0m\u001b[0;34m[\u001b[0m\u001b[0;34m:\u001b[0m\u001b[0;34m-\u001b[0m\u001b[0;36m1\u001b[0m\u001b[0;34m]\u001b[0m\u001b[0;34m,\u001b[0m \u001b[0mva\u001b[0m\u001b[0;34m=\u001b[0m\u001b[0;34m'bottom'\u001b[0m\u001b[0;34m)\u001b[0m\u001b[0;34m\u001b[0m\u001b[0;34m\u001b[0m\u001b[0m\n\u001b[1;32m     68\u001b[0m \u001b[0;34m\u001b[0m\u001b[0m\n",
      "\u001b[0;31mUnboundLocalError\u001b[0m: local variable 'survey' referenced before assignment"
     ]
    },
    {
     "data": {
      "image/png": "[encoded data removed]",
      "text/plain": [
       "<Figure size 1008x576 with 2 Axes>"
      ]
     },
     "metadata": {
      "needs_background": "light"
     },
     "output_type": "display_data"
    }
   ],
   "source": [
    "%load_ext autoreload\n",
    "%autoreload 2\n",
    "%matplotlib inline\n",
    "from lcclassifier.results.plots import plot_metric\n",
    "\n",
    "dmetrics = {\n",
    "    f'b-rocauc':{'k':1, 'mn':'b-AUCROC'},\n",
    "    #f'b-precision':{'k':1, 'mn':None},\n",
    "    f'b-recall':{'k':1, 'mn':None},\n",
    "    f'b-f1score':{'k':1, 'mn':None},\n",
    "    #f'b-prauc':{'k':1, 'mn':'b-AUCPR'},\n",
    "    }\n",
    "kwargs = {\n",
    "    #'baselines_dict':baselines_dict,\n",
    "    'p':None, # None 5 10 25 30 50\n",
    "}\n",
    "plot_metric(rootdir, cfilename, kf, lcset_name, model_names, dmetrics, **kwargs)"
   ]
  },
  {
   "cell_type": "code",
   "execution_count": 4,
   "metadata": {},
   "outputs": [
    {
     "ename": "AssertionError",
     "evalue": "",
     "output_type": "error",
     "traceback": [
      "\u001b[0;31m---------------------------------------------------------------------------\u001b[0m",
      "\u001b[0;31mAssertionError\u001b[0m                            Traceback (most recent call last)",
      "\u001b[0;32m<ipython-input-4-29403cf677e6>\u001b[0m in \u001b[0;36m<module>\u001b[0;34m\u001b[0m\n\u001b[0;32m----> 1\u001b[0;31m \u001b[0;32massert\u001b[0m \u001b[0;36m0\u001b[0m\u001b[0;34m\u001b[0m\u001b[0;34m\u001b[0m\u001b[0m\n\u001b[0m",
      "\u001b[0;31mAssertionError\u001b[0m: "
     ]
    }
   ],
   "source": [
    "assert 0"
   ]
  },
  {
   "cell_type": "code",
   "execution_count": 5,
   "metadata": {
    "scrolled": false
   },
   "outputs": [
    {
     "name": "stdout",
     "output_type": "stream",
     "text": [
      "The autoreload extension is already loaded. To reload it, use:\n",
      "  %reload_ext autoreload\n",
      "mdl=ParallelRNN~in-dims=3~te-dims=0~enc-emb=g32-g32-g32-g32.r32-r32-r32-r32~dec-emb=g32-g32-g32-g32.r32-r32-r32-r32~cell=GRU~bypass=0 ['id=1000', 'id=1001', 'id=1002', 'id=2000', 'id=2001', 'id=2002'](6#)\n",
      "mdl=ParallelRNN~in-dims=3~te-dims=0~enc-emb=g32-g32-g32-g32.r32-r32-r32-r32~dec-emb=g32-g32-g32-g32.r32-r32-r32-r32~cell=LSTM~bypass=0 ['id=1000', 'id=1001', 'id=1002', 'id=2000', 'id=2001', 'id=2002'](6#)\n",
      "mdl=ParallelTimeSelfAttn~in-dims=2~te-dims=2~kernel_size=1~time_noise_window=0~enc-emb=g32-g32-g32-g32.r32-r32-r32-r32~dec-emb=g32-g32-g32-g32.r32-r32-r32-r32~bypass=0 ['id=2000'](1#)\n",
      "mdl=ParallelTimeSelfAttn~in-dims=2~te-dims=2~kernel_size=1~time_noise_window=1*24**-1~enc-emb=g32-g32-g32-g32.r32-r32-r32-r32~dec-emb=g32-g32-g32-g32.r32-r32-r32-r32~bypass=0 ['id=2000'](1#)\n",
      "mdl=ParallelTimeSelfAttn~in-dims=2~te-dims=2~kernel_size=1~time_noise_window=5*24**-1~enc-emb=g32-g32-g32-g32.r32-r32-r32-r32~dec-emb=g32-g32-g32-g32.r32-r32-r32-r32~bypass=0 ['id=2000'](1#)\n",
      "mdl=ParallelTimeSelfAttn~in-dims=2~te-dims=2~kernel_size=2~time_noise_window=0~enc-emb=g32-g32-g32-g32.r32-r32-r32-r32~dec-emb=g32-g32-g32-g32.r32-r32-r32-r32~bypass=0 ['id=2000'](1#)\n",
      "mdl=ParallelTimeSelfAttn~in-dims=2~te-dims=2~kernel_size=2~time_noise_window=1*24**-1~enc-emb=g32-g32-g32-g32.r32-r32-r32-r32~dec-emb=g32-g32-g32-g32.r32-r32-r32-r32~bypass=0 ['id=2000'](1#)\n",
      "mdl=ParallelTimeSelfAttn~in-dims=2~te-dims=2~kernel_size=2~time_noise_window=5*24**-1~enc-emb=g32-g32-g32-g32.r32-r32-r32-r32~dec-emb=g32-g32-g32-g32.r32-r32-r32-r32~bypass=0 [](0#)\n",
      "mdl=SerialRNN~in-dims=3~te-dims=0~enc-emb=64-64-64-64~dec-emb=64-64-64-64~cell=GRU~bypass=0 ['id=1000', 'id=1001', 'id=1002', 'id=2000', 'id=2001', 'id=2002'](6#)\n",
      "mdl=SerialRNN~in-dims=3~te-dims=0~enc-emb=64-64-64-64~dec-emb=64-64-64-64~cell=LSTM~bypass=0 ['id=1000', 'id=1001', 'id=1002', 'id=2000', 'id=2001', 'id=2002'](6#)\n",
      "mdl=SerialTimeSelfAttn~in-dims=2~te-dims=2~kernel_size=1~time_noise_window=0~enc-emb=64-64-64-64~dec-emb=64-64-64-64~bypass=0 ['id=2000'](1#)\n",
      "mdl=SerialTimeSelfAttn~in-dims=2~te-dims=2~kernel_size=1~time_noise_window=0~enc-emb=64-64-64~dec-emb=64-64-64~bypass=0 ['id=1000', 'id=2000'](2#)\n",
      "mdl=SerialTimeSelfAttn~in-dims=2~te-dims=2~kernel_size=1~time_noise_window=1*24**-1~enc-emb=64-64-64-64~dec-emb=64-64-64-64~bypass=0 ['id=2000'](1#)\n",
      "mdl=SerialTimeSelfAttn~in-dims=2~te-dims=2~kernel_size=1~time_noise_window=5*24**-1~enc-emb=64-64-64-64~dec-emb=64-64-64-64~bypass=0 ['id=2000'](1#)\n",
      "mdl=SerialTimeSelfAttn~in-dims=2~te-dims=2~kernel_size=2~time_noise_window=0~enc-emb=64-64-64-64~dec-emb=64-64-64-64~bypass=0 ['id=2000'](1#)\n",
      "mdl=SerialTimeSelfAttn~in-dims=2~te-dims=2~kernel_size=2~time_noise_window=1*24**-1~enc-emb=64-64-64-64~dec-emb=64-64-64-64~bypass=0 ['id=2000'](1#)\n",
      "mdl=SerialTimeSelfAttn~in-dims=2~te-dims=2~kernel_size=2~time_noise_window=5*24**-1~enc-emb=64-64-64-64~dec-emb=64-64-64-64~bypass=0 ['id=2000'](1#)\n",
      "mdl=SerialTimeSelfAttn~in-dims=2~te-dims=2~kernel_size=5~time_noise_window=0~enc-emb=64-64-64-64~dec-emb=64-64-64-64~bypass=0 ['id=2000'](1#)\n",
      "mdl=SerialTimeSelfAttn~in-dims=2~te-dims=2~kernel_size=5~time_noise_window=1*24**-1~enc-emb=64-64-64-64~dec-emb=64-64-64-64~bypass=0 ['id=2000'](1#)\n",
      "mdl=SerialTimeSelfAttn~in-dims=2~te-dims=2~kernel_size=5~time_noise_window=5*24**-1~enc-emb=64-64-64-64~dec-emb=64-64-64-64~bypass=0 ['id=2000'](1#)\n"
     ]
    },
    {
     "ename": "AssertionError",
     "evalue": "indexs must be unique",
     "output_type": "error",
     "traceback": [
      "\u001b[0;31m---------------------------------------------------------------------------\u001b[0m",
      "\u001b[0;31mAssertionError\u001b[0m                            Traceback (most recent call last)",
      "\u001b[0;32m<ipython-input-5-8ea9b93ef246>\u001b[0m in \u001b[0;36m<module>\u001b[0;34m\u001b[0m\n\u001b[1;32m     21\u001b[0m \u001b[0;32mfor\u001b[0m \u001b[0mk\u001b[0m \u001b[0;32min\u001b[0m \u001b[0mrange\u001b[0m\u001b[0;34m(\u001b[0m\u001b[0;36m0\u001b[0m\u001b[0;34m,\u001b[0m \u001b[0mlen\u001b[0m\u001b[0;34m(\u001b[0m\u001b[0minfo_df\u001b[0m\u001b[0;34m)\u001b[0m\u001b[0;34m)\u001b[0m\u001b[0;34m:\u001b[0m\u001b[0;34m\u001b[0m\u001b[0;34m\u001b[0m\u001b[0m\n\u001b[1;32m     22\u001b[0m     \u001b[0minfo_df\u001b[0m\u001b[0;34m.\u001b[0m\u001b[0mindexs\u001b[0m\u001b[0;34m[\u001b[0m\u001b[0mk\u001b[0m\u001b[0;34m]\u001b[0m \u001b[0;34m=\u001b[0m \u001b[0minfo_df\u001b[0m\u001b[0;34m.\u001b[0m\u001b[0mindexs\u001b[0m\u001b[0;34m[\u001b[0m\u001b[0mk\u001b[0m\u001b[0;34m]\u001b[0m\u001b[0;34m.\u001b[0m\u001b[0mreplace\u001b[0m\u001b[0;34m(\u001b[0m\u001b[0;34m'='\u001b[0m\u001b[0;34m,\u001b[0m \u001b[0;34m'***'\u001b[0m\u001b[0;34m)\u001b[0m\u001b[0;34m.\u001b[0m\u001b[0mreplace\u001b[0m\u001b[0;34m(\u001b[0m\u001b[0;34m'model***'\u001b[0m\u001b[0;34m,\u001b[0m \u001b[0;34m'model='\u001b[0m\u001b[0;34m)\u001b[0m\u001b[0;34m\u001b[0m\u001b[0;34m\u001b[0m\u001b[0m\n\u001b[0;32m---> 23\u001b[0;31m \u001b[0mdisplay\u001b[0m\u001b[0;34m(\u001b[0m\u001b[0minfo_df\u001b[0m\u001b[0;34m(\u001b[0m\u001b[0;34m)\u001b[0m\u001b[0;34m)\u001b[0m\u001b[0;34m\u001b[0m\u001b[0;34m\u001b[0m\u001b[0m\n\u001b[0m\u001b[1;32m     24\u001b[0m \u001b[0;34m\u001b[0m\u001b[0m\n\u001b[1;32m     25\u001b[0m \u001b[0mcaption\u001b[0m \u001b[0;34m=\u001b[0m \u001b[0;34m''\u001b[0m\u001b[0;34m\u001b[0m\u001b[0;34m\u001b[0m\u001b[0m\n",
      "\u001b[0;32m~/tesis/fuzzy-tools/fuzzytools/dataframes.py\u001b[0m in \u001b[0;36m__call__\u001b[0;34m(self)\u001b[0m\n\u001b[1;32m     69\u001b[0m \u001b[0;34m\u001b[0m\u001b[0m\n\u001b[1;32m     70\u001b[0m         \u001b[0;32mdef\u001b[0m \u001b[0m__call__\u001b[0m\u001b[0;34m(\u001b[0m\u001b[0mself\u001b[0m\u001b[0;34m)\u001b[0m\u001b[0;34m:\u001b[0m\u001b[0;34m\u001b[0m\u001b[0;34m\u001b[0m\u001b[0m\n\u001b[0;32m---> 71\u001b[0;31m                 \u001b[0;32mreturn\u001b[0m \u001b[0mself\u001b[0m\u001b[0;34m.\u001b[0m\u001b[0mget_df\u001b[0m\u001b[0;34m(\u001b[0m\u001b[0;34m)\u001b[0m\u001b[0;34m\u001b[0m\u001b[0;34m\u001b[0m\u001b[0m\n\u001b[0m",
      "\u001b[0;32m~/tesis/fuzzy-tools/fuzzytools/dataframes.py\u001b[0m in \u001b[0;36mget_df\u001b[0;34m(self)\u001b[0m\n\u001b[1;32m     60\u001b[0m \u001b[0;34m\u001b[0m\u001b[0m\n\u001b[1;32m     61\u001b[0m         \u001b[0;32mdef\u001b[0m \u001b[0mget_df\u001b[0m\u001b[0;34m(\u001b[0m\u001b[0mself\u001b[0m\u001b[0;34m)\u001b[0m\u001b[0;34m:\u001b[0m\u001b[0;34m\u001b[0m\u001b[0;34m\u001b[0m\u001b[0m\n\u001b[0;32m---> 62\u001b[0;31m                 \u001b[0;32massert\u001b[0m \u001b[0mlen\u001b[0m\u001b[0;34m(\u001b[0m\u001b[0mself\u001b[0m\u001b[0;34m)\u001b[0m\u001b[0;34m==\u001b[0m\u001b[0mlen\u001b[0m\u001b[0;34m(\u001b[0m\u001b[0mlist\u001b[0m\u001b[0;34m(\u001b[0m\u001b[0mset\u001b[0m\u001b[0;34m(\u001b[0m\u001b[0mself\u001b[0m\u001b[0;34m.\u001b[0m\u001b[0mindexs\u001b[0m\u001b[0;34m)\u001b[0m\u001b[0;34m)\u001b[0m\u001b[0;34m)\u001b[0m\u001b[0;34m,\u001b[0m \u001b[0;34m'indexs must be unique'\u001b[0m\u001b[0;34m\u001b[0m\u001b[0;34m\u001b[0m\u001b[0m\n\u001b[0m\u001b[1;32m     63\u001b[0m                 \u001b[0mnew_d\u001b[0m \u001b[0;34m=\u001b[0m \u001b[0;34m{\u001b[0m\u001b[0mindex\u001b[0m\u001b[0;34m:\u001b[0m\u001b[0;34m{\u001b[0m\u001b[0;34m}\u001b[0m \u001b[0;32mfor\u001b[0m \u001b[0mindex\u001b[0m \u001b[0;32min\u001b[0m \u001b[0mself\u001b[0m\u001b[0;34m.\u001b[0m\u001b[0mindexs\u001b[0m\u001b[0;34m}\u001b[0m\u001b[0;34m\u001b[0m\u001b[0;34m\u001b[0m\u001b[0m\n\u001b[1;32m     64\u001b[0m                 \u001b[0;32mfor\u001b[0m \u001b[0mindex\u001b[0m\u001b[0;34m,\u001b[0m\u001b[0md\u001b[0m \u001b[0;32min\u001b[0m \u001b[0mzip\u001b[0m\u001b[0;34m(\u001b[0m\u001b[0mself\u001b[0m\u001b[0;34m.\u001b[0m\u001b[0mindexs\u001b[0m\u001b[0;34m,\u001b[0m\u001b[0mself\u001b[0m\u001b[0;34m.\u001b[0m\u001b[0mds\u001b[0m\u001b[0;34m)\u001b[0m\u001b[0;34m:\u001b[0m\u001b[0;34m\u001b[0m\u001b[0;34m\u001b[0m\u001b[0m\n",
      "\u001b[0;31mAssertionError\u001b[0m: indexs must be unique"
     ]
    }
   ],
   "source": [
    "%load_ext autoreload\n",
    "%autoreload 2\n",
    "from lcclassifier.results.tables import get_ps_performance_df\n",
    "from fuzzytools.latex.latex_tables import LatexTable\n",
    "\n",
    "dmetrics = {\n",
    "    f'b-precision':{'k':1, 'mn':None},\n",
    "    f'b-recall':{'k':1, 'mn':None},\n",
    "    f'b-f1score':{'k':1, 'mn':None},\n",
    "    f'b-rocauc':{'k':1, 'mn':'b-AUCROC'},\n",
    "    #f'b-prauc':{'k':1, 'mn':'b-AUCPR'},\n",
    "    }\n",
    "kwargs = {\n",
    "    'uses_avg':False, # False True\n",
    "    'day':100,\n",
    "    #'override_model_name':False, # False True\n",
    "    'baseline_filedir':f'../temp/baseline~mode=all.df',\n",
    "    }\n",
    "info_df = get_ps_performance_df(rootdir, cfilename, kf, lcset_name, model_names, dmetrics, **kwargs)\n",
    "\n",
    "for k in range(0, len(info_df)):\n",
    "    info_df.indexs[k] = info_df.indexs[k].replace('=', '***').replace('model***', 'model=')\n",
    "display(info_df())\n",
    "\n",
    "caption = ''\n",
    "caption += f'Baseline method v/s deep learning models.'\n",
    "latex_kwargs = {\n",
    "    'centered':False,\n",
    "    'caption':caption,\n",
    "    'label':'?',\n",
    "    'bold_axis':'columns',\n",
    "    'repr_replace_dict':{'***':'='},\n",
    "}\n",
    "latex_table = LatexTable(info_df(), **latex_kwargs)\n",
    "print(latex_table)"
   ]
  },
  {
   "cell_type": "code",
   "execution_count": null,
   "metadata": {
    "scrolled": false
   },
   "outputs": [],
   "source": [
    "%load_ext autoreload\n",
    "%autoreload 2\n",
    "from lcclassifier.results.plots import plot_cm\n",
    "\n",
    "lcset_name = 'test'\n",
    "kwargs = {\n",
    "    'export_animation':True, # False True\n",
    "}\n",
    "plot_cm(rootdir, cfilename, kf, lcset_name, model_names, **kwargs)"
   ]
  },
  {
   "cell_type": "code",
   "execution_count": null,
   "metadata": {},
   "outputs": [],
   "source": [
    "assert 0"
   ]
  },
  {
   "cell_type": "code",
   "execution_count": null,
   "metadata": {
    "scrolled": false
   },
   "outputs": [],
   "source": [
    "%load_ext autoreload\n",
    "%autoreload 2\n",
    "from lcclassifier.results.plots import plot_temporal_encoding\n",
    "\n",
    "lcset_name = f'train.{method}'\n",
    "kwargs = {\n",
    "    }\n",
    "plot_temporal_encoding(rootdir, cfilename, kf, lcset_name, model_names, **kwargs)"
   ]
  },
  {
   "cell_type": "code",
   "execution_count": null,
   "metadata": {},
   "outputs": [],
   "source": [
    "assert 0"
   ]
  },
  {
   "cell_type": "code",
   "execution_count": null,
   "metadata": {},
   "outputs": [],
   "source": []
  },
  {
   "cell_type": "code",
   "execution_count": null,
   "metadata": {},
   "outputs": [],
   "source": []
  },
  {
   "cell_type": "code",
   "execution_count": 137,
   "metadata": {
    "scrolled": false
   },
   "outputs": [
    {
     "name": "stdout",
     "output_type": "stream",
     "text": [
      "The autoreload extension is already loaded. To reload it, use:\n",
      "  %reload_ext autoreload\n",
      "mdl=ParallelRNN~input_dims=3~enc-emb=g32-g32-g32.r32-r32-r32~dec-emb=g32-g32-g32.r32-r32-r32~cell=GRU~b=64~bypass=0 [](0#)\n",
      "mdl=ParallelRNN~input_dims=3~enc-emb=g64-g64-g64.r64-r64-r64~dec-emb=g64-g64-g64.r64-r64-r64~cell=GRU~b=64~bypass=0 ['id=1000'](1#)\n",
      "dict_keys(['save_dict', 'best_epoch', 'time_per_iteration', 'time_per_epoch', 'total_time'])\n",
      ".060±.012\n",
      "mdl=ParallelRNN~input_dims=3~enc-emb=g64-g64-g64.r64-r64-r64~dec-emb=g64-g64-g64.r64-r64-r64~cell=LSTM~b=64~bypass=0 ['id=1000'](1#)\n",
      "dict_keys(['save_dict', 'best_epoch', 'time_per_iteration', 'time_per_epoch', 'total_time'])\n",
      ".064±.012\n",
      "mdl=ParallelTimeSelfAttn~input_dims=2~m=2~kernel_size=1~time_noise_window=0~enc-emb=g32-g32-g32.r32-r32-r32~dec-emb=g32-g32-g32.r32-r32-r32~b=64~bypass=0 [](0#)\n",
      "mdl=ParallelTimeSelfAttn~input_dims=2~m=2~kernel_size=1~time_noise_window=0~enc-emb=g64-g64-g64.r64-r64-r64~dec-emb=g64-g64-g64.r64-r64-r64~b=64~bypass=0 ['id=1000'](1#)\n",
      "dict_keys(['save_dict', 'best_epoch', 'time_per_iteration', 'time_per_epoch', 'total_time'])\n",
      ".154±.026\n",
      "mdl=ParallelTimeSelfAttn~input_dims=2~m=4~kernel_size=1~time_noise_window=0~enc-emb=g64-g64-g64.r64-r64-r64~dec-emb=g64-g64-g64.r64-r64-r64~b=64~bypass=0 ['id=1000'](1#)\n",
      "dict_keys(['save_dict', 'best_epoch', 'time_per_iteration', 'time_per_epoch', 'total_time'])\n",
      ".147±.026\n",
      "mdl=ParallelTimeSelfAttn~input_dims=2~m=4~kernel_size=1~time_noise_window=6*24**-1~enc-emb=g32-g32-g32.r32-r32-r32~dec-emb=g32-g32-g32.r32-r32-r32~b=64~bypass=0 [](0#)\n",
      "mdl=ParallelTimeSelfAttn~input_dims=2~m=4~kernel_size=1~time_noise_window=6*24**-1~enc-emb=g64-g64-g64.r64-r64-r64~dec-emb=g64-g64.r64-r64~b=100~bypass=0 [](0#)\n",
      "mdl=ParallelTimeSelfAttn~input_dims=2~m=8~kernel_size=1~time_noise_window=0~enc-emb=g64-g64-g64.r64-r64-r64~dec-emb=g64-g64-g64.r64-r64-r64~b=64~bypass=0 ['id=1000'](1#)\n",
      "dict_keys(['save_dict', 'best_epoch', 'time_per_iteration', 'time_per_epoch', 'total_time'])\n",
      ".151±.025\n",
      "mdl=SerialRNN~input_dims=3~enc-emb=128-128-128~dec-emb=128-128-128~cell=GRU~b=64~bypass=0 ['id=1000'](1#)\n",
      "dict_keys(['save_dict', 'best_epoch', 'time_per_iteration', 'time_per_epoch', 'total_time'])\n",
      ".052±.010\n",
      "mdl=SerialRNN~input_dims=3~enc-emb=128-128-128~dec-emb=128-128-128~cell=LSTM~b=64~bypass=0 ['id=1000'](1#)\n",
      "dict_keys(['save_dict', 'best_epoch', 'time_per_iteration', 'time_per_epoch', 'total_time'])\n",
      ".056±.011\n",
      "mdl=SerialRNN~input_dims=3~enc-emb=64-64-64~dec-emb=64-64-64~cell=GRU~b=64~bypass=0 ['id=1000'](1#)\n",
      "dict_keys(['save_dict', 'best_epoch', 'time_per_iteration', 'time_per_epoch', 'total_time'])\n",
      ".048±.010\n",
      "mdl=SerialTimeSelfAttn~input_dims=2~m=16~kernel_size=1~time_noise_window=0~enc-emb=128-128-128~dec-emb=128-128-128~b=64~bypass=0 ['id=1000'](1#)\n",
      "dict_keys(['save_dict', 'best_epoch', 'time_per_iteration', 'time_per_epoch', 'total_time'])\n",
      ".113±.021\n",
      "mdl=SerialTimeSelfAttn~input_dims=2~m=2~kernel_size=1~time_noise_window=0~enc-emb=128-128-128~dec-emb=128-128-128~b=64~bypass=0 ['id=1000'](1#)\n",
      "dict_keys(['save_dict', 'best_epoch', 'time_per_iteration', 'time_per_epoch', 'total_time'])\n",
      ".112±.020\n",
      "mdl=SerialTimeSelfAttn~input_dims=2~m=2~kernel_size=1~time_noise_window=0~enc-emb=64-64-64~dec-emb=64-64-64~b=64~bypass=0 ['id=1000'](1#)\n",
      "dict_keys(['save_dict', 'best_epoch', 'time_per_iteration', 'time_per_epoch', 'total_time'])\n",
      ".092±.017\n",
      "mdl=SerialTimeSelfAttn~input_dims=2~m=4~kernel_size=1~time_noise_window=0~enc-emb=128-128-128~dec-emb=128-128-128~b=64~bypass=0 ['id=1000'](1#)\n",
      "dict_keys(['save_dict', 'best_epoch', 'time_per_iteration', 'time_per_epoch', 'total_time'])\n",
      ".112±.020\n",
      "mdl=SerialTimeSelfAttn~input_dims=2~m=8~kernel_size=1~time_noise_window=0~enc-emb=128-128-128~dec-emb=128-128-128~b=64~bypass=0 ['id=1000'](1#)\n",
      "dict_keys(['save_dict', 'best_epoch', 'time_per_iteration', 'time_per_epoch', 'total_time'])\n",
      ".116±.021\n"
     ]
    },
    {
     "ename": "AssertionError",
     "evalue": "indexs must be unique",
     "output_type": "error",
     "traceback": [
      "\u001b[0;31m---------------------------------------------------------------------------\u001b[0m",
      "\u001b[0;31mAssertionError\u001b[0m                            Traceback (most recent call last)",
      "\u001b[0;32m<ipython-input-137-f39f7f96cefa>\u001b[0m in \u001b[0;36m<module>\u001b[0;34m\u001b[0m\n\u001b[1;32m     11\u001b[0m \u001b[0;32mfor\u001b[0m \u001b[0mk\u001b[0m \u001b[0;32min\u001b[0m \u001b[0mrange\u001b[0m\u001b[0;34m(\u001b[0m\u001b[0;36m0\u001b[0m\u001b[0;34m,\u001b[0m \u001b[0mlen\u001b[0m\u001b[0;34m(\u001b[0m\u001b[0minfo_df\u001b[0m\u001b[0;34m)\u001b[0m\u001b[0;34m)\u001b[0m\u001b[0;34m:\u001b[0m\u001b[0;34m\u001b[0m\u001b[0;34m\u001b[0m\u001b[0m\n\u001b[1;32m     12\u001b[0m     \u001b[0minfo_df\u001b[0m\u001b[0;34m.\u001b[0m\u001b[0mindexs\u001b[0m\u001b[0;34m[\u001b[0m\u001b[0mk\u001b[0m\u001b[0;34m]\u001b[0m \u001b[0;34m=\u001b[0m \u001b[0minfo_df\u001b[0m\u001b[0;34m.\u001b[0m\u001b[0mindexs\u001b[0m\u001b[0;34m[\u001b[0m\u001b[0mk\u001b[0m\u001b[0;34m]\u001b[0m\u001b[0;34m.\u001b[0m\u001b[0mreplace\u001b[0m\u001b[0;34m(\u001b[0m\u001b[0;34m'='\u001b[0m\u001b[0;34m,\u001b[0m \u001b[0;34m'***'\u001b[0m\u001b[0;34m)\u001b[0m\u001b[0;34m.\u001b[0m\u001b[0mreplace\u001b[0m\u001b[0;34m(\u001b[0m\u001b[0;34m'model***'\u001b[0m\u001b[0;34m,\u001b[0m \u001b[0;34m'model='\u001b[0m\u001b[0;34m)\u001b[0m\u001b[0;34m\u001b[0m\u001b[0;34m\u001b[0m\u001b[0m\n\u001b[0;32m---> 13\u001b[0;31m \u001b[0mdisplay\u001b[0m\u001b[0;34m(\u001b[0m\u001b[0minfo_df\u001b[0m\u001b[0;34m(\u001b[0m\u001b[0;34m)\u001b[0m\u001b[0;34m)\u001b[0m\u001b[0;34m\u001b[0m\u001b[0;34m\u001b[0m\u001b[0m\n\u001b[0m\u001b[1;32m     14\u001b[0m \u001b[0;34m\u001b[0m\u001b[0m\n\u001b[1;32m     15\u001b[0m \u001b[0mcaption\u001b[0m \u001b[0;34m=\u001b[0m \u001b[0;34m''\u001b[0m\u001b[0;34m\u001b[0m\u001b[0;34m\u001b[0m\u001b[0m\n",
      "\u001b[0;32m~/tesis/fuzzy-tools/fuzzytools/dataframes.py\u001b[0m in \u001b[0;36m__call__\u001b[0;34m(self)\u001b[0m\n\u001b[1;32m     69\u001b[0m \u001b[0;34m\u001b[0m\u001b[0m\n\u001b[1;32m     70\u001b[0m         \u001b[0;32mdef\u001b[0m \u001b[0m__call__\u001b[0m\u001b[0;34m(\u001b[0m\u001b[0mself\u001b[0m\u001b[0;34m)\u001b[0m\u001b[0;34m:\u001b[0m\u001b[0;34m\u001b[0m\u001b[0;34m\u001b[0m\u001b[0m\n\u001b[0;32m---> 71\u001b[0;31m                 \u001b[0;32mreturn\u001b[0m \u001b[0mself\u001b[0m\u001b[0;34m.\u001b[0m\u001b[0mget_df\u001b[0m\u001b[0;34m(\u001b[0m\u001b[0;34m)\u001b[0m\u001b[0;34m\u001b[0m\u001b[0;34m\u001b[0m\u001b[0m\n\u001b[0m",
      "\u001b[0;32m~/tesis/fuzzy-tools/fuzzytools/dataframes.py\u001b[0m in \u001b[0;36mget_df\u001b[0;34m(self)\u001b[0m\n\u001b[1;32m     60\u001b[0m \u001b[0;34m\u001b[0m\u001b[0m\n\u001b[1;32m     61\u001b[0m         \u001b[0;32mdef\u001b[0m \u001b[0mget_df\u001b[0m\u001b[0;34m(\u001b[0m\u001b[0mself\u001b[0m\u001b[0;34m)\u001b[0m\u001b[0;34m:\u001b[0m\u001b[0;34m\u001b[0m\u001b[0;34m\u001b[0m\u001b[0m\n\u001b[0;32m---> 62\u001b[0;31m                 \u001b[0;32massert\u001b[0m \u001b[0mlen\u001b[0m\u001b[0;34m(\u001b[0m\u001b[0mself\u001b[0m\u001b[0;34m)\u001b[0m\u001b[0;34m==\u001b[0m\u001b[0mlen\u001b[0m\u001b[0;34m(\u001b[0m\u001b[0mlist\u001b[0m\u001b[0;34m(\u001b[0m\u001b[0mset\u001b[0m\u001b[0;34m(\u001b[0m\u001b[0mself\u001b[0m\u001b[0;34m.\u001b[0m\u001b[0mindexs\u001b[0m\u001b[0;34m)\u001b[0m\u001b[0;34m)\u001b[0m\u001b[0;34m)\u001b[0m\u001b[0;34m,\u001b[0m \u001b[0;34m'indexs must be unique'\u001b[0m\u001b[0;34m\u001b[0m\u001b[0;34m\u001b[0m\u001b[0m\n\u001b[0m\u001b[1;32m     63\u001b[0m                 \u001b[0mnew_d\u001b[0m \u001b[0;34m=\u001b[0m \u001b[0;34m{\u001b[0m\u001b[0mindex\u001b[0m\u001b[0;34m:\u001b[0m\u001b[0;34m{\u001b[0m\u001b[0;34m}\u001b[0m \u001b[0;32mfor\u001b[0m \u001b[0mindex\u001b[0m \u001b[0;32min\u001b[0m \u001b[0mself\u001b[0m\u001b[0;34m.\u001b[0m\u001b[0mindexs\u001b[0m\u001b[0;34m}\u001b[0m\u001b[0;34m\u001b[0m\u001b[0;34m\u001b[0m\u001b[0m\n\u001b[1;32m     64\u001b[0m                 \u001b[0;32mfor\u001b[0m \u001b[0mindex\u001b[0m\u001b[0;34m,\u001b[0m\u001b[0md\u001b[0m \u001b[0;32min\u001b[0m \u001b[0mzip\u001b[0m\u001b[0;34m(\u001b[0m\u001b[0mself\u001b[0m\u001b[0;34m.\u001b[0m\u001b[0mindexs\u001b[0m\u001b[0;34m,\u001b[0m\u001b[0mself\u001b[0m\u001b[0;34m.\u001b[0m\u001b[0mds\u001b[0m\u001b[0;34m)\u001b[0m\u001b[0;34m:\u001b[0m\u001b[0;34m\u001b[0m\u001b[0;34m\u001b[0m\u001b[0m\n",
      "\u001b[0;31mAssertionError\u001b[0m: indexs must be unique"
     ]
    }
   ],
   "source": [
    "%load_ext autoreload\n",
    "%autoreload 2\n",
    "from lcclassifier.results.tables import get_ps_times_df\n",
    "from fuzzytools.latex.latex_tables import LatexTable\n",
    "from fuzzytools.lists import get_min_elements\n",
    "\n",
    "kwargs = {\n",
    "    }\n",
    "info_df = get_ps_times_df(rootdir, cfilename, kf, method, model_names, **kwargs)\n",
    "\n",
    "for k in range(0, len(info_df)):\n",
    "    info_df.indexs[k] = info_df.indexs[k].replace('=', '***').replace('model***', 'model=')\n",
    "display(info_df())\n",
    "\n",
    "caption = ''\n",
    "caption += f'Training optimization times from all autoencoder models iterations. Validation set evaluation is included in total time.'\n",
    "latex_kwargs = {\n",
    "    #'centered':\n",
    "    'caption':caption,\n",
    "    'label':'?',\n",
    "    'bold_axis':'columns',\n",
    "    #'hline_k':3,\n",
    "    'repr_replace_dict':{'***':'='},\n",
    "    'bold_function':get_min_elements,\n",
    "}\n",
    "latex_table = LatexTable(info_df(), **latex_kwargs)\n",
    "print(latex_table)"
   ]
  }
 ],
 "metadata": {
  "kernelspec": {
   "display_name": "Python 3",
   "language": "python",
   "name": "python3"
  },
  "language_info": {
   "codemirror_mode": {
    "name": "ipython",
    "version": 3
   },
   "file_extension": ".py",
   "mimetype": "text/x-python",
   "name": "python",
   "nbconvert_exporter": "python",
   "pygments_lexer": "ipython3",
   "version": "3.7.10"
  }
 },
 "nbformat": 4,
 "nbformat_minor": 2
}
