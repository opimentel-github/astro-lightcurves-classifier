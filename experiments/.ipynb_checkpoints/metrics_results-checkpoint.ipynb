{
 "cells": [
  {
   "cell_type": "code",
   "execution_count": 1,
   "metadata": {},
   "outputs": [],
   "source": [
    "import sys\n",
    "sys.path.append('../') # or just install the module\n",
    "sys.path.append('../../fuzzy-torch') # or just install the module\n",
    "sys.path.append('../../flaming-choripan') # or just install the module\n",
    "sys.path.append('../../astro-lightcurves-handler') # or just install the module"
   ]
  },
  {
   "cell_type": "markdown",
   "metadata": {},
   "source": [
    "# search model's results"
   ]
  },
  {
   "cell_type": "code",
   "execution_count": 2,
   "metadata": {},
   "outputs": [
    {
     "name": "stdout",
     "output_type": "stream",
     "text": [
      "[0] mdl=ParallelRNN°in-dims=3°te-dims=0°enc-emb=g64-g64-g64.r64-r64-r64°dec-emb=g64-g64.r64-r64°cell=GRU°mode=fine-tuning°rsc=0\n",
      "[1] mdl=ParallelRNN°in-dims=3°te-dims=0°enc-emb=g64-g64-g64.r64-r64-r64°dec-emb=g64-g64.r64-r64°cell=LSTM°mode=fine-tuning°rsc=0\n",
      "[2] mdl=ParallelTCNN°in-dims=3°te-dims=0°enc-emb=g64-g64-g64.r64-r64-r64°dec-emb=g64-g64.r64-r64°aggr=avg°mode=fine-tuning°rsc=0\n",
      "[3] mdl=ParallelTCNN°in-dims=3°te-dims=0°enc-emb=g64-g64-g64.r64-r64-r64°dec-emb=g64-g64.r64-r64°aggr=max°mode=fine-tuning°rsc=0\n",
      "[4] mdl=ParallelTimeSelfAttn°in-dims=2°te-dims=16°enc-emb=g64-g64-g64.r64-r64-r64°dec-emb=g64-g64.r64-r64°mode=fine-tuning°rsc=0\n",
      "[5] mdl=ParallelTimeSelfAttn°in-dims=2°te-dims=2°enc-emb=g64-g64-g64.r64-r64-r64°dec-emb=g64-g64.r64-r64°mode=fine-tuning°rsc=0\n",
      "[6] mdl=ParallelTimeSelfAttn°in-dims=2°te-dims=32°enc-emb=g64-g64-g64.r64-r64-r64°dec-emb=g64-g64.r64-r64°mode=fine-tuning°rsc=0\n",
      "[7] mdl=ParallelTimeSelfAttn°in-dims=2°te-dims=4°enc-emb=g64-g64-g64.r64-r64-r64°dec-emb=g64-g64.r64-r64°mode=fine-tuning°rsc=0\n",
      "[8] mdl=ParallelTimeSelfAttn°in-dims=2°te-dims=8°enc-emb=g64-g64-g64.r64-r64-r64°dec-emb=g64-g64.r64-r64°mode=fine-tuning°rsc=0\n",
      "[9] mdl=SerialRNN°in-dims=3°te-dims=0°enc-emb=64-64-64°dec-emb=g64-g64.r64-r64°cell=GRU°mode=fine-tuning°rsc=0\n",
      "[10] mdl=SerialRNN°in-dims=3°te-dims=0°enc-emb=64-64-64°dec-emb=g64-g64.r64-r64°cell=LSTM°mode=fine-tuning°rsc=0\n",
      "[11] mdl=SerialTCNN°in-dims=3°te-dims=0°enc-emb=64-64-64°dec-emb=g64-g64.r64-r64°aggr=avg°mode=fine-tuning°rsc=0\n",
      "[12] mdl=SerialTCNN°in-dims=3°te-dims=0°enc-emb=64-64-64°dec-emb=g64-g64.r64-r64°aggr=max°mode=fine-tuning°rsc=0\n",
      "[13] mdl=SerialTimeSelfAttn°in-dims=2°te-dims=16°enc-emb=64-64-64°dec-emb=g64-g64.r64-r64°mode=fine-tuning°rsc=0\n",
      "[14] mdl=SerialTimeSelfAttn°in-dims=2°te-dims=32°enc-emb=64-64-64°dec-emb=g64-g64.r64-r64°mode=fine-tuning°rsc=0\n",
      "[15] mdl=SerialTimeSelfAttn°in-dims=2°te-dims=4°enc-emb=64-64-64°dec-emb=g64-g64.r64-r64°mode=fine-tuning°rsc=0\n",
      "[16] mdl=SerialTimeSelfAttn°in-dims=2°te-dims=8°enc-emb=64-64-64°dec-emb=g64-g64.r64-r64°mode=fine-tuning°rsc=0\n"
     ]
    }
   ],
   "source": [
    "%load_ext autoreload\n",
    "%autoreload 2\n",
    "from lcclassifier.results.utils import get_models_from_rootdir\n",
    "\n",
    "survey_name = 'alerceZTFv7.1'\n",
    "kf = 0\n",
    "set_name = f'{kf}@r_test' # s_train r_train s_val r_val r_test\n",
    "rootdir = f'../save/experiments/{set_name}'\n",
    "cset_name = set_name.split('@')[-1]\n",
    "model_names = get_models_from_rootdir(f'{rootdir}/fine-tuning')\n",
    "for kmn,model_name in enumerate(model_names):\n",
    "    print(f'[{kmn}] {model_name}')"
   ]
  },
  {
   "cell_type": "code",
   "execution_count": 3,
   "metadata": {},
   "outputs": [
    {
     "name": "stdout",
     "output_type": "stream",
     "text": [
      "The autoreload extension is already loaded. To reload it, use:\n",
      "  %reload_ext autoreload\n",
      "[0] mdl=ParallelTimeSelfAttn°in-dims=2°te-dims=16°enc-emb=g64-g64-g64.r64-r64-r64°dec-emb=g64-g64.r64-r64°mode=fine-tuning°rsc=0\n",
      "[1] mdl=ParallelTimeSelfAttn°in-dims=2°te-dims=2°enc-emb=g64-g64-g64.r64-r64-r64°dec-emb=g64-g64.r64-r64°mode=fine-tuning°rsc=0\n",
      "[2] mdl=ParallelTimeSelfAttn°in-dims=2°te-dims=32°enc-emb=g64-g64-g64.r64-r64-r64°dec-emb=g64-g64.r64-r64°mode=fine-tuning°rsc=0\n",
      "[3] mdl=ParallelTimeSelfAttn°in-dims=2°te-dims=4°enc-emb=g64-g64-g64.r64-r64-r64°dec-emb=g64-g64.r64-r64°mode=fine-tuning°rsc=0\n",
      "[4] mdl=ParallelTimeSelfAttn°in-dims=2°te-dims=8°enc-emb=g64-g64-g64.r64-r64-r64°dec-emb=g64-g64.r64-r64°mode=fine-tuning°rsc=0\n",
      "[5] mdl=SerialTimeSelfAttn°in-dims=2°te-dims=16°enc-emb=64-64-64°dec-emb=g64-g64.r64-r64°mode=fine-tuning°rsc=0\n",
      "[6] mdl=SerialTimeSelfAttn°in-dims=2°te-dims=32°enc-emb=64-64-64°dec-emb=g64-g64.r64-r64°mode=fine-tuning°rsc=0\n",
      "[7] mdl=SerialTimeSelfAttn°in-dims=2°te-dims=4°enc-emb=64-64-64°dec-emb=g64-g64.r64-r64°mode=fine-tuning°rsc=0\n",
      "[8] mdl=SerialTimeSelfAttn°in-dims=2°te-dims=8°enc-emb=64-64-64°dec-emb=g64-g64.r64-r64°mode=fine-tuning°rsc=0\n"
     ]
    }
   ],
   "source": [
    "%load_ext autoreload\n",
    "%autoreload 2\n",
    "from lcclassifier.results.utils import filter_models\n",
    "\n",
    "condition_dict = {\n",
    "    'mdl':['ParallelTimeSelfAttn', 'SerialTimeSelfAttn'],\n",
    "    #'cell':['GRU', 'LSTM'],\n",
    "    #'aggregation':['max', 'avg'],\n",
    "}\n",
    "idxs = [\n",
    "    0,1,2,\n",
    "    3,7,9,\n",
    "]\n",
    "new_model_names = model_names\n",
    "new_model_names = filter_models(model_names, condition_dict)\n",
    "#new_model_names = [model_names[idx] for idx,model_name in enumerate(model_names) if idx in idxs]\n",
    "for kmn,model_name in enumerate(new_model_names):\n",
    "    print(f'[{kmn}] {model_name}')"
   ]
  },
  {
   "cell_type": "markdown",
   "metadata": {},
   "source": [
    "# metrics v/s days"
   ]
  },
  {
   "cell_type": "code",
   "execution_count": 4,
   "metadata": {},
   "outputs": [],
   "source": [
    "baselines_dict = {\n",
    "    'r_val':{\n",
    "        'b-accuracy':65.86,\n",
    "        'b-f1score':.43,\n",
    "    },\n",
    "    'r_test':{\n",
    "        'b-accuracy':60.38,\n",
    "        'b-f1score':.45,\n",
    "    },\n",
    "}"
   ]
  },
  {
   "cell_type": "code",
   "execution_count": null,
   "metadata": {
    "scrolled": false
   },
   "outputs": [
    {
     "name": "stdout",
     "output_type": "stream",
     "text": [
      "The autoreload extension is already loaded. To reload it, use:\n",
      "  %reload_ext autoreload\n",
      "[0][5#] mdl=ParallelTimeSelfAttn°in-dims=2°te-dims=16°enc-emb=g64-g64-g64.r64-r64-r64°dec-emb=g64-g64.r64-r64°mode=fine-tuning°rsc=0\n",
      "[1][5#] mdl=ParallelTimeSelfAttn°in-dims=2°te-dims=2°enc-emb=g64-g64-g64.r64-r64-r64°dec-emb=g64-g64.r64-r64°mode=fine-tuning°rsc=0\n",
      "[2][5#] mdl=ParallelTimeSelfAttn°in-dims=2°te-dims=32°enc-emb=g64-g64-g64.r64-r64-r64°dec-emb=g64-g64.r64-r64°mode=fine-tuning°rsc=0\n",
      "[3][5#] mdl=ParallelTimeSelfAttn°in-dims=2°te-dims=4°enc-emb=g64-g64-g64.r64-r64-r64°dec-emb=g64-g64.r64-r64°mode=fine-tuning°rsc=0\n",
      "[4][5#] mdl=ParallelTimeSelfAttn°in-dims=2°te-dims=8°enc-emb=g64-g64-g64.r64-r64-r64°dec-emb=g64-g64.r64-r64°mode=fine-tuning°rsc=0\n",
      "[5][5#] mdl=SerialTimeSelfAttn°in-dims=2°te-dims=16°enc-emb=64-64-64°dec-emb=g64-g64.r64-r64°mode=fine-tuning°rsc=0\n",
      "[6][5#] mdl=SerialTimeSelfAttn°in-dims=2°te-dims=32°enc-emb=64-64-64°dec-emb=g64-g64.r64-r64°mode=fine-tuning°rsc=0\n",
      "[7][5#] mdl=SerialTimeSelfAttn°in-dims=2°te-dims=4°enc-emb=64-64-64°dec-emb=g64-g64.r64-r64°mode=fine-tuning°rsc=0\n",
      "[8][5#] mdl=SerialTimeSelfAttn°in-dims=2°te-dims=8°enc-emb=64-64-64°dec-emb=g64-g64.r64-r64°mode=fine-tuning°rsc=0\n",
      "[0][5#] mdl=ParallelTimeSelfAttn°in-dims=2°te-dims=16°enc-emb=g64-g64-g64.r64-r64-r64°dec-emb=g64-g64.r64-r64°mode=fine-tuning°rsc=0\n",
      "[1][5#] mdl=ParallelTimeSelfAttn°in-dims=2°te-dims=2°enc-emb=g64-g64-g64.r64-r64-r64°dec-emb=g64-g64.r64-r64°mode=fine-tuning°rsc=0\n",
      "[2][5#] mdl=ParallelTimeSelfAttn°in-dims=2°te-dims=32°enc-emb=g64-g64-g64.r64-r64-r64°dec-emb=g64-g64.r64-r64°mode=fine-tuning°rsc=0\n",
      "[3][5#] mdl=ParallelTimeSelfAttn°in-dims=2°te-dims=4°enc-emb=g64-g64-g64.r64-r64-r64°dec-emb=g64-g64.r64-r64°mode=fine-tuning°rsc=0\n",
      "[4][5#] mdl=ParallelTimeSelfAttn°in-dims=2°te-dims=8°enc-emb=g64-g64-g64.r64-r64-r64°dec-emb=g64-g64.r64-r64°mode=fine-tuning°rsc=0\n",
      "[5][5#] mdl=SerialTimeSelfAttn°in-dims=2°te-dims=16°enc-emb=64-64-64°dec-emb=g64-g64.r64-r64°mode=fine-tuning°rsc=0\n",
      "[6][5#] mdl=SerialTimeSelfAttn°in-dims=2°te-dims=32°enc-emb=64-64-64°dec-emb=g64-g64.r64-r64°mode=fine-tuning°rsc=0\n",
      "[7][4#] mdl=SerialTimeSelfAttn°in-dims=2°te-dims=4°enc-emb=64-64-64°dec-emb=g64-g64.r64-r64°mode=fine-tuning°rsc=0\n",
      "[8][5#] mdl=SerialTimeSelfAttn°in-dims=2°te-dims=8°enc-emb=64-64-64°dec-emb=g64-g64.r64-r64°mode=fine-tuning°rsc=0\n"
     ]
    }
   ],
   "source": [
    "%load_ext autoreload\n",
    "%autoreload 2\n",
    "from lcclassifier.results.plots import plot_metric\n",
    "\n",
    "label_keys = [\n",
    "    'cell',\n",
    "    'te-dims',\n",
    "    'rsc',\n",
    "]\n",
    "kwargs = {\n",
    "    'label_keys':label_keys,\n",
    "}\n",
    "metric_name = 'b-accuracy' # b-accuracy b-f1score\n",
    "plot_metric(rootdir, metric_name, new_model_names, baselines_dict.get(cset_name, None), **kwargs)"
   ]
  },
  {
   "cell_type": "code",
   "execution_count": 15,
   "metadata": {
    "scrolled": false
   },
   "outputs": [
    {
     "name": "stdout",
     "output_type": "stream",
     "text": [
      "The autoreload extension is already loaded. To reload it, use:\n",
      "  %reload_ext autoreload\n",
      "[0][5#] mdl=ParallelTimeSelfAttn°in-dims=2°te-dims=16°enc-emb=g64-g64-g64.r64-r64-r64°dec-emb=g64-g64.r64-r64°mode=fine-tuning°rsc=0\n",
      "[1][5#] mdl=ParallelTimeSelfAttn°in-dims=2°te-dims=2°enc-emb=g64-g64-g64.r64-r64-r64°dec-emb=g64-g64.r64-r64°mode=fine-tuning°rsc=0\n",
      "[2][5#] mdl=ParallelTimeSelfAttn°in-dims=2°te-dims=32°enc-emb=g64-g64-g64.r64-r64-r64°dec-emb=g64-g64.r64-r64°mode=fine-tuning°rsc=0\n",
      "[3][5#] mdl=ParallelTimeSelfAttn°in-dims=2°te-dims=4°enc-emb=g64-g64-g64.r64-r64-r64°dec-emb=g64-g64.r64-r64°mode=fine-tuning°rsc=0\n",
      "[4][5#] mdl=ParallelTimeSelfAttn°in-dims=2°te-dims=8°enc-emb=g64-g64-g64.r64-r64-r64°dec-emb=g64-g64.r64-r64°mode=fine-tuning°rsc=0\n",
      "[5][5#] mdl=SerialTimeSelfAttn°in-dims=2°te-dims=16°enc-emb=64-64-64°dec-emb=g64-g64.r64-r64°mode=fine-tuning°rsc=0\n",
      "[6][5#] mdl=SerialTimeSelfAttn°in-dims=2°te-dims=32°enc-emb=64-64-64°dec-emb=g64-g64.r64-r64°mode=fine-tuning°rsc=0\n",
      "[7][5#] mdl=SerialTimeSelfAttn°in-dims=2°te-dims=4°enc-emb=64-64-64°dec-emb=g64-g64.r64-r64°mode=fine-tuning°rsc=0\n",
      "[8][5#] mdl=SerialTimeSelfAttn°in-dims=2°te-dims=8°enc-emb=64-64-64°dec-emb=g64-g64.r64-r64°mode=fine-tuning°rsc=0\n",
      "[0][5#] mdl=ParallelTimeSelfAttn°in-dims=2°te-dims=16°enc-emb=g64-g64-g64.r64-r64-r64°dec-emb=g64-g64.r64-r64°mode=fine-tuning°rsc=0\n",
      "[1][5#] mdl=ParallelTimeSelfAttn°in-dims=2°te-dims=2°enc-emb=g64-g64-g64.r64-r64-r64°dec-emb=g64-g64.r64-r64°mode=fine-tuning°rsc=0\n",
      "[2][5#] mdl=ParallelTimeSelfAttn°in-dims=2°te-dims=32°enc-emb=g64-g64-g64.r64-r64-r64°dec-emb=g64-g64.r64-r64°mode=fine-tuning°rsc=0\n",
      "[3][5#] mdl=ParallelTimeSelfAttn°in-dims=2°te-dims=4°enc-emb=g64-g64-g64.r64-r64-r64°dec-emb=g64-g64.r64-r64°mode=fine-tuning°rsc=0\n",
      "[4][5#] mdl=ParallelTimeSelfAttn°in-dims=2°te-dims=8°enc-emb=g64-g64-g64.r64-r64-r64°dec-emb=g64-g64.r64-r64°mode=fine-tuning°rsc=0\n",
      "[5][5#] mdl=SerialTimeSelfAttn°in-dims=2°te-dims=16°enc-emb=64-64-64°dec-emb=g64-g64.r64-r64°mode=fine-tuning°rsc=0\n",
      "[6][5#] mdl=SerialTimeSelfAttn°in-dims=2°te-dims=32°enc-emb=64-64-64°dec-emb=g64-g64.r64-r64°mode=fine-tuning°rsc=0\n",
      "[7][4#] mdl=SerialTimeSelfAttn°in-dims=2°te-dims=4°enc-emb=64-64-64°dec-emb=g64-g64.r64-r64°mode=fine-tuning°rsc=0\n",
      "[8][5#] mdl=SerialTimeSelfAttn°in-dims=2°te-dims=8°enc-emb=64-64-64°dec-emb=g64-g64.r64-r64°mode=fine-tuning°rsc=0\n",
      "\u001b[31m%%%%%%%%%%%%%%%%%%%%%%%%%%%%%%%%%%%%%%%%%%%%%%%%%%%%%%%%%%%%%%%%%%%%%%%%%%%%%%%%%%%%%%%%%%%%%%%%%%%%\n",
      "\\def\\srule{\\rule{0pt}{2ex}\\rule[-1ex]{0pt}{0ex}}\n",
      "\\begin{table*}\n",
      "\\centering\n",
      "\\caption{te-dims 150}\n",
      "\\label{?}\\vspace{.1cm}\n",
      "\\begin{tabular}{lc|ccccc}\n",
      "\\hline\n",
      "metric & training-mode & Parallel-2 & Parallel-4 & Parallel-8 & Parallel-16 & Parallel-32 \\srule\\\\\\hline\\hline\n",
      "b-accuracy$|^{150}$ & pre-training & 65.202$\\pm$2.013 & 64.549$\\pm$3.153 & 61.854$\\pm$1.867 & 61.736$\\pm$2.545 & 60.458$\\pm$5.150  \\srule\\\\\n",
      "b-accuracy$|_{2}^{150}$ & pre-training & 59.065$\\pm$.806 & 58.558$\\pm$2.436 & 56.704$\\pm$1.907 & 56.952$\\pm$1.937 & 55.787$\\pm$3.310  \\srule\\\\\n",
      "b-f1score$|^{150}$ & pre-training & .491$\\pm$.047 & .493$\\pm$.021 & .482$\\pm$.017 & .478$\\pm$.046 & .492$\\pm$.035  \\srule\\\\\n",
      "b-f1score$|_{2}^{150}$ & pre-training & .445$\\pm$.035 & .440$\\pm$.016 & .435$\\pm$.019 & .436$\\pm$.039 & .447$\\pm$.018  \\srule\\\\\n",
      "b-gmean$|^{150}$ & pre-training & .750$\\pm$.015 & .745$\\pm$.022 & .728$\\pm$.013 & .725$\\pm$.022 & .717$\\pm$.040  \\srule\\\\\n",
      "b-gmean$|_{2}^{150}$ & pre-training & .700$\\pm$.006 & .693$\\pm$.019 & .685$\\pm$.013 & .680$\\pm$.019 & .672$\\pm$.023  \\srule\\\\\n",
      "b-xentropy$|^{150}$ & pre-training & .975$\\pm$.062 & .985$\\pm$.048 & .992$\\pm$.069 & .980$\\pm$.030 & 1.013$\\pm$.058  \\srule\\\\\n",
      "b-xentropy$|_{2}^{150}$ & pre-training & 1.117$\\pm$.043 & 1.140$\\pm$.038 & 1.140$\\pm$.086 & 1.117$\\pm$.023 & 1.180$\\pm$.060  \\srule\\\\\n",
      "b-accuracy$|^{150}$ & fine-tuning & 67.596$\\pm$3.337 & 67.606$\\pm$2.600 & 68.531$\\pm$1.552 & 69.212$\\pm$.560 & 69.383$\\pm$1.256  \\srule\\\\\n",
      "b-accuracy$|_{2}^{150}$ & fine-tuning & 61.135$\\pm$2.016 & 61.535$\\pm$1.588 & 62.453$\\pm$1.242 & 61.792$\\pm$.741 & 61.547$\\pm$1.658  \\srule\\\\\n",
      "b-f1score$|^{150}$ & fine-tuning & .548$\\pm$.040 & .551$\\pm$.026 & .569$\\pm$.012 & .592$\\pm$.012 & .601$\\pm$.014  \\srule\\\\\n",
      "b-f1score$|_{2}^{150}$ & fine-tuning & .498$\\pm$.028 & .500$\\pm$.016 & .517$\\pm$.011 & .532$\\pm$.011 & .539$\\pm$.009  \\srule\\\\\n",
      "b-gmean$|^{150}$ & fine-tuning & .773$\\pm$.027 & .771$\\pm$.021 & .779$\\pm$.014 & .783$\\pm$.004 & .784$\\pm$.010  \\srule\\\\\n",
      "b-gmean$|_{2}^{150}$ & fine-tuning & .706$\\pm$.017 & .714$\\pm$.015 & .717$\\pm$.014 & .712$\\pm$.007 & .715$\\pm$.013  \\srule\\\\\n",
      "b-xentropy$|^{150}$ & fine-tuning & .913$\\pm$.033 & .975$\\pm$.043 & .897$\\pm$.013 & .895$\\pm$.010 & .914$\\pm$.033  \\srule\\\\\n",
      "b-xentropy$|_{2}^{150}$ & fine-tuning & 1.026$\\pm$.020 & 1.058$\\pm$.036 & 1.007$\\pm$.015 & 1.006$\\pm$.011 & 1.063$\\pm$.053  \\srule\\\\\n",
      "\\hline\n",
      "\\end{tabular}\n",
      "\\end{table*}\n",
      "%%%%%%%%%%%%%%%%%%%%%%%%%%%%%%%%%%%%%%%%%%%%%%%%%%%%%%%%%%%%%%%%%%%%%%%%%%%%%%%%%%%%%%%%%%%%%%%%%%%%\n",
      "\u001b[0m\n"
     ]
    },
    {
     "data": {
      "text/html": [
       "<div>\n",
       "<style scoped>\n",
       "    .dataframe tbody tr th:only-of-type {\n",
       "        vertical-align: middle;\n",
       "    }\n",
       "\n",
       "    .dataframe tbody tr th {\n",
       "        vertical-align: top;\n",
       "    }\n",
       "\n",
       "    .dataframe thead th {\n",
       "        text-align: right;\n",
       "    }\n",
       "</style>\n",
       "<table border=\"1\" class=\"dataframe\">\n",
       "  <thead>\n",
       "    <tr style=\"text-align: right;\">\n",
       "      <th></th>\n",
       "      <th>Parallel-2</th>\n",
       "      <th>Parallel-4</th>\n",
       "      <th>Parallel-8</th>\n",
       "      <th>Parallel-16</th>\n",
       "      <th>Parallel-32</th>\n",
       "    </tr>\n",
       "  </thead>\n",
       "  <tbody>\n",
       "    <tr>\n",
       "      <th>metric=b-accuracy$|^{150}$°training-mode=pre-training</th>\n",
       "      <td>65.202±2.013</td>\n",
       "      <td>64.549±3.153</td>\n",
       "      <td>61.854±1.867</td>\n",
       "      <td>61.736±2.545</td>\n",
       "      <td>60.458±5.150</td>\n",
       "    </tr>\n",
       "    <tr>\n",
       "      <th>metric=b-accuracy$|_{2}^{150}$°training-mode=pre-training</th>\n",
       "      <td>59.065±.806</td>\n",
       "      <td>58.558±2.436</td>\n",
       "      <td>56.704±1.907</td>\n",
       "      <td>56.952±1.937</td>\n",
       "      <td>55.787±3.310</td>\n",
       "    </tr>\n",
       "    <tr>\n",
       "      <th>metric=b-f1score$|^{150}$°training-mode=pre-training</th>\n",
       "      <td>.491±.047</td>\n",
       "      <td>.493±.021</td>\n",
       "      <td>.482±.017</td>\n",
       "      <td>.478±.046</td>\n",
       "      <td>.492±.035</td>\n",
       "    </tr>\n",
       "    <tr>\n",
       "      <th>metric=b-f1score$|_{2}^{150}$°training-mode=pre-training</th>\n",
       "      <td>.445±.035</td>\n",
       "      <td>.440±.016</td>\n",
       "      <td>.435±.019</td>\n",
       "      <td>.436±.039</td>\n",
       "      <td>.447±.018</td>\n",
       "    </tr>\n",
       "    <tr>\n",
       "      <th>metric=b-gmean$|^{150}$°training-mode=pre-training</th>\n",
       "      <td>.750±.015</td>\n",
       "      <td>.745±.022</td>\n",
       "      <td>.728±.013</td>\n",
       "      <td>.725±.022</td>\n",
       "      <td>.717±.040</td>\n",
       "    </tr>\n",
       "    <tr>\n",
       "      <th>metric=b-gmean$|_{2}^{150}$°training-mode=pre-training</th>\n",
       "      <td>.700±.006</td>\n",
       "      <td>.693±.019</td>\n",
       "      <td>.685±.013</td>\n",
       "      <td>.680±.019</td>\n",
       "      <td>.672±.023</td>\n",
       "    </tr>\n",
       "    <tr>\n",
       "      <th>metric=b-xentropy$|^{150}$°training-mode=pre-training</th>\n",
       "      <td>.975±.062</td>\n",
       "      <td>.985±.048</td>\n",
       "      <td>.992±.069</td>\n",
       "      <td>.980±.030</td>\n",
       "      <td>1.013±.058</td>\n",
       "    </tr>\n",
       "    <tr>\n",
       "      <th>metric=b-xentropy$|_{2}^{150}$°training-mode=pre-training</th>\n",
       "      <td>1.117±.043</td>\n",
       "      <td>1.140±.038</td>\n",
       "      <td>1.140±.086</td>\n",
       "      <td>1.117±.023</td>\n",
       "      <td>1.180±.060</td>\n",
       "    </tr>\n",
       "    <tr>\n",
       "      <th>metric=b-accuracy$|^{150}$°training-mode=fine-tuning</th>\n",
       "      <td>67.596±3.337</td>\n",
       "      <td>67.606±2.600</td>\n",
       "      <td>68.531±1.552</td>\n",
       "      <td>69.212±.560</td>\n",
       "      <td>69.383±1.256</td>\n",
       "    </tr>\n",
       "    <tr>\n",
       "      <th>metric=b-accuracy$|_{2}^{150}$°training-mode=fine-tuning</th>\n",
       "      <td>61.135±2.016</td>\n",
       "      <td>61.535±1.588</td>\n",
       "      <td>62.453±1.242</td>\n",
       "      <td>61.792±.741</td>\n",
       "      <td>61.547±1.658</td>\n",
       "    </tr>\n",
       "    <tr>\n",
       "      <th>metric=b-f1score$|^{150}$°training-mode=fine-tuning</th>\n",
       "      <td>.548±.040</td>\n",
       "      <td>.551±.026</td>\n",
       "      <td>.569±.012</td>\n",
       "      <td>.592±.012</td>\n",
       "      <td>.601±.014</td>\n",
       "    </tr>\n",
       "    <tr>\n",
       "      <th>metric=b-f1score$|_{2}^{150}$°training-mode=fine-tuning</th>\n",
       "      <td>.498±.028</td>\n",
       "      <td>.500±.016</td>\n",
       "      <td>.517±.011</td>\n",
       "      <td>.532±.011</td>\n",
       "      <td>.539±.009</td>\n",
       "    </tr>\n",
       "    <tr>\n",
       "      <th>metric=b-gmean$|^{150}$°training-mode=fine-tuning</th>\n",
       "      <td>.773±.027</td>\n",
       "      <td>.771±.021</td>\n",
       "      <td>.779±.014</td>\n",
       "      <td>.783±.004</td>\n",
       "      <td>.784±.010</td>\n",
       "    </tr>\n",
       "    <tr>\n",
       "      <th>metric=b-gmean$|_{2}^{150}$°training-mode=fine-tuning</th>\n",
       "      <td>.706±.017</td>\n",
       "      <td>.714±.015</td>\n",
       "      <td>.717±.014</td>\n",
       "      <td>.712±.007</td>\n",
       "      <td>.715±.013</td>\n",
       "    </tr>\n",
       "    <tr>\n",
       "      <th>metric=b-xentropy$|^{150}$°training-mode=fine-tuning</th>\n",
       "      <td>.913±.033</td>\n",
       "      <td>.975±.043</td>\n",
       "      <td>.897±.013</td>\n",
       "      <td>.895±.010</td>\n",
       "      <td>.914±.033</td>\n",
       "    </tr>\n",
       "    <tr>\n",
       "      <th>metric=b-xentropy$|_{2}^{150}$°training-mode=fine-tuning</th>\n",
       "      <td>1.026±.020</td>\n",
       "      <td>1.058±.036</td>\n",
       "      <td>1.007±.015</td>\n",
       "      <td>1.006±.011</td>\n",
       "      <td>1.063±.053</td>\n",
       "    </tr>\n",
       "  </tbody>\n",
       "</table>\n",
       "</div>"
      ],
      "text/plain": [
       "                                                      Parallel-2  \\\n",
       "metric=b-accuracy$|^{150}$°training-mode=pre-tr...  65.202±2.013   \n",
       "metric=b-accuracy$|_{2}^{150}$°training-mode=pr...   59.065±.806   \n",
       "metric=b-f1score$|^{150}$°training-mode=pre-tra...     .491±.047   \n",
       "metric=b-f1score$|_{2}^{150}$°training-mode=pre...     .445±.035   \n",
       "metric=b-gmean$|^{150}$°training-mode=pre-training     .750±.015   \n",
       "metric=b-gmean$|_{2}^{150}$°training-mode=pre-t...     .700±.006   \n",
       "metric=b-xentropy$|^{150}$°training-mode=pre-tr...     .975±.062   \n",
       "metric=b-xentropy$|_{2}^{150}$°training-mode=pr...    1.117±.043   \n",
       "metric=b-accuracy$|^{150}$°training-mode=fine-t...  67.596±3.337   \n",
       "metric=b-accuracy$|_{2}^{150}$°training-mode=fi...  61.135±2.016   \n",
       "metric=b-f1score$|^{150}$°training-mode=fine-tu...     .548±.040   \n",
       "metric=b-f1score$|_{2}^{150}$°training-mode=fin...     .498±.028   \n",
       "metric=b-gmean$|^{150}$°training-mode=fine-tuning      .773±.027   \n",
       "metric=b-gmean$|_{2}^{150}$°training-mode=fine-...     .706±.017   \n",
       "metric=b-xentropy$|^{150}$°training-mode=fine-t...     .913±.033   \n",
       "metric=b-xentropy$|_{2}^{150}$°training-mode=fi...    1.026±.020   \n",
       "\n",
       "                                                      Parallel-4  \\\n",
       "metric=b-accuracy$|^{150}$°training-mode=pre-tr...  64.549±3.153   \n",
       "metric=b-accuracy$|_{2}^{150}$°training-mode=pr...  58.558±2.436   \n",
       "metric=b-f1score$|^{150}$°training-mode=pre-tra...     .493±.021   \n",
       "metric=b-f1score$|_{2}^{150}$°training-mode=pre...     .440±.016   \n",
       "metric=b-gmean$|^{150}$°training-mode=pre-training     .745±.022   \n",
       "metric=b-gmean$|_{2}^{150}$°training-mode=pre-t...     .693±.019   \n",
       "metric=b-xentropy$|^{150}$°training-mode=pre-tr...     .985±.048   \n",
       "metric=b-xentropy$|_{2}^{150}$°training-mode=pr...    1.140±.038   \n",
       "metric=b-accuracy$|^{150}$°training-mode=fine-t...  67.606±2.600   \n",
       "metric=b-accuracy$|_{2}^{150}$°training-mode=fi...  61.535±1.588   \n",
       "metric=b-f1score$|^{150}$°training-mode=fine-tu...     .551±.026   \n",
       "metric=b-f1score$|_{2}^{150}$°training-mode=fin...     .500±.016   \n",
       "metric=b-gmean$|^{150}$°training-mode=fine-tuning      .771±.021   \n",
       "metric=b-gmean$|_{2}^{150}$°training-mode=fine-...     .714±.015   \n",
       "metric=b-xentropy$|^{150}$°training-mode=fine-t...     .975±.043   \n",
       "metric=b-xentropy$|_{2}^{150}$°training-mode=fi...    1.058±.036   \n",
       "\n",
       "                                                      Parallel-8  \\\n",
       "metric=b-accuracy$|^{150}$°training-mode=pre-tr...  61.854±1.867   \n",
       "metric=b-accuracy$|_{2}^{150}$°training-mode=pr...  56.704±1.907   \n",
       "metric=b-f1score$|^{150}$°training-mode=pre-tra...     .482±.017   \n",
       "metric=b-f1score$|_{2}^{150}$°training-mode=pre...     .435±.019   \n",
       "metric=b-gmean$|^{150}$°training-mode=pre-training     .728±.013   \n",
       "metric=b-gmean$|_{2}^{150}$°training-mode=pre-t...     .685±.013   \n",
       "metric=b-xentropy$|^{150}$°training-mode=pre-tr...     .992±.069   \n",
       "metric=b-xentropy$|_{2}^{150}$°training-mode=pr...    1.140±.086   \n",
       "metric=b-accuracy$|^{150}$°training-mode=fine-t...  68.531±1.552   \n",
       "metric=b-accuracy$|_{2}^{150}$°training-mode=fi...  62.453±1.242   \n",
       "metric=b-f1score$|^{150}$°training-mode=fine-tu...     .569±.012   \n",
       "metric=b-f1score$|_{2}^{150}$°training-mode=fin...     .517±.011   \n",
       "metric=b-gmean$|^{150}$°training-mode=fine-tuning      .779±.014   \n",
       "metric=b-gmean$|_{2}^{150}$°training-mode=fine-...     .717±.014   \n",
       "metric=b-xentropy$|^{150}$°training-mode=fine-t...     .897±.013   \n",
       "metric=b-xentropy$|_{2}^{150}$°training-mode=fi...    1.007±.015   \n",
       "\n",
       "                                                     Parallel-16   Parallel-32  \n",
       "metric=b-accuracy$|^{150}$°training-mode=pre-tr...  61.736±2.545  60.458±5.150  \n",
       "metric=b-accuracy$|_{2}^{150}$°training-mode=pr...  56.952±1.937  55.787±3.310  \n",
       "metric=b-f1score$|^{150}$°training-mode=pre-tra...     .478±.046     .492±.035  \n",
       "metric=b-f1score$|_{2}^{150}$°training-mode=pre...     .436±.039     .447±.018  \n",
       "metric=b-gmean$|^{150}$°training-mode=pre-training     .725±.022     .717±.040  \n",
       "metric=b-gmean$|_{2}^{150}$°training-mode=pre-t...     .680±.019     .672±.023  \n",
       "metric=b-xentropy$|^{150}$°training-mode=pre-tr...     .980±.030    1.013±.058  \n",
       "metric=b-xentropy$|_{2}^{150}$°training-mode=pr...    1.117±.023    1.180±.060  \n",
       "metric=b-accuracy$|^{150}$°training-mode=fine-t...   69.212±.560  69.383±1.256  \n",
       "metric=b-accuracy$|_{2}^{150}$°training-mode=fi...   61.792±.741  61.547±1.658  \n",
       "metric=b-f1score$|^{150}$°training-mode=fine-tu...     .592±.012     .601±.014  \n",
       "metric=b-f1score$|_{2}^{150}$°training-mode=fin...     .532±.011     .539±.009  \n",
       "metric=b-gmean$|^{150}$°training-mode=fine-tuning      .783±.004     .784±.010  \n",
       "metric=b-gmean$|_{2}^{150}$°training-mode=fine-...     .712±.007     .715±.013  \n",
       "metric=b-xentropy$|^{150}$°training-mode=fine-t...     .895±.010     .914±.033  \n",
       "metric=b-xentropy$|_{2}^{150}$°training-mode=fi...    1.006±.011    1.063±.053  "
      ]
     },
     "execution_count": 15,
     "metadata": {},
     "output_type": "execute_result"
    }
   ],
   "source": [
    "%load_ext autoreload\n",
    "%autoreload 2\n",
    "from lcclassifier.results.tables import get_df_table\n",
    "from flamingchoripan.latex.latex_tables import LatexTable\n",
    "\n",
    "kwargs = {\n",
    "    'arch_modes':['Parallel'],\n",
    "}\n",
    "metric_names = ['b-accuracy', 'b-f1score', 'b-gmean', 'b-xentropy']\n",
    "day_to_metric = 150\n",
    "query_key = 'te-dims'\n",
    "query_values = [str(i) for i in [2, 4, 8, 16, 32]]\n",
    "info_df = get_df_table(rootdir, metric_names, new_model_names, day_to_metric, query_key, query_values, **kwargs)\n",
    "\n",
    "latex_kwargs = {\n",
    "    'caption':f'{query_key} {day_to_metric}',\n",
    "    'label':'?',\n",
    "    #'bold_criteriums':'max',\n",
    "    #'custom_tabular_align':'l|'+'c'*sum([m.split('-')[-1]=='fstw' for m in methods])+'|'+'c'*sum([m.split('-')[-1]=='estw' for m in methods]),\n",
    "    #'custom_tabular_align':'l|cc|cc|cc',\n",
    "}\n",
    "latex_table = LatexTable(info_df, **latex_kwargs)\n",
    "print(latex_table)\n",
    "info_df"
   ]
  },
  {
   "cell_type": "markdown",
   "metadata": {},
   "source": [
    "# mse v/s days"
   ]
  },
  {
   "cell_type": "code",
   "execution_count": null,
   "metadata": {},
   "outputs": [],
   "source": [
    "%load_ext autoreload\n",
    "%autoreload 2\n",
    "from lcclassifier.results.plots import plot_mse\n",
    "\n",
    "plot_mse(rootdir, new_model_names)"
   ]
  },
  {
   "cell_type": "markdown",
   "metadata": {},
   "source": [
    "# f1score vs mse"
   ]
  },
  {
   "cell_type": "code",
   "execution_count": null,
   "metadata": {
    "scrolled": false
   },
   "outputs": [],
   "source": [
    "%load_ext autoreload\n",
    "%autoreload 2\n",
    "from lcclassifier.results.plots import plot_f1score_mse\n",
    "\n",
    "plot_f1score_mse(root_folder)"
   ]
  },
  {
   "cell_type": "markdown",
   "metadata": {},
   "source": [
    "# Temporal encoding"
   ]
  },
  {
   "cell_type": "code",
   "execution_count": null,
   "metadata": {},
   "outputs": [],
   "source": [
    "%load_ext autoreload\n",
    "%autoreload 2\n",
    "from lcclassifier.results.plots import plot_te_scores\n",
    "\n",
    "plot_te_scores(root_folder, error_scale=1.5)"
   ]
  },
  {
   "cell_type": "markdown",
   "metadata": {},
   "source": [
    "# Precision & recall"
   ]
  },
  {
   "cell_type": "code",
   "execution_count": null,
   "metadata": {},
   "outputs": [],
   "source": [
    "%matplotlib inline\n",
    "%load_ext autoreload\n",
    "%autoreload 2\n",
    "from ipywidgets import interact, fixed\n",
    "from flamingchoripan.myUtils.files import search_for_filedirs\n",
    "from src.results.plots import plot_precision_recall_classes\n",
    "\n",
    "def interact_f(model_name):\n",
    "    return plot_precision_recall_classes(root_folder, model_name)\n",
    "\n",
    "filedirs = search_for_filedirs(root_folder, fext='expmet', verbose=0)\n",
    "model_names = list(set([fd.split('/')[-2] for fd in filedirs]))\n",
    "interact(interact_f, model_name=model_names)"
   ]
  },
  {
   "cell_type": "code",
   "execution_count": null,
   "metadata": {
    "scrolled": false
   },
   "outputs": [],
   "source": [
    "%load_ext autoreload\n",
    "%autoreload 2\n",
    "from src.results.plots import plot_training_losses\n",
    "\n",
    "plot_training_losses(root_folder)"
   ]
  },
  {
   "cell_type": "markdown",
   "metadata": {},
   "source": [
    "# metrics & training times table"
   ]
  },
  {
   "cell_type": "code",
   "execution_count": null,
   "metadata": {
    "scrolled": false
   },
   "outputs": [],
   "source": [
    "%load_ext autoreload\n",
    "%autoreload 2\n",
    "from src.results.latex_tables import latex_table_metrics_days\n",
    "\n",
    "target_days = [15, 30, 60]\n",
    "latex_table_metrics_days(root_folder, target_days)"
   ]
  },
  {
   "cell_type": "code",
   "execution_count": null,
   "metadata": {},
   "outputs": [],
   "source": [
    "%load_ext autoreload\n",
    "%autoreload 2\n",
    "from src.results.latex_tables import latex_table_metrics_mean\n",
    "\n",
    "latex_table_metrics_mean(root_folder)"
   ]
  },
  {
   "cell_type": "code",
   "execution_count": null,
   "metadata": {
    "scrolled": false
   },
   "outputs": [],
   "source": [
    "%load_ext autoreload\n",
    "%autoreload 2\n",
    "from src.results.latex_tables import latex_table_parameters\n",
    "\n",
    "latex_table_parameters(root_folder)"
   ]
  },
  {
   "cell_type": "markdown",
   "metadata": {},
   "source": [
    "# confusion matrix plot"
   ]
  },
  {
   "cell_type": "code",
   "execution_count": null,
   "metadata": {
    "scrolled": false
   },
   "outputs": [],
   "source": [
    "%matplotlib inline\n",
    "%load_ext autoreload\n",
    "%autoreload 2\n",
    "from ipywidgets import interact, fixed\n",
    "from flamingchoripan.myUtils.files import search_for_filedirs, load_pickle\n",
    "from src.results.plots import plot_cm\n",
    "\n",
    "def interact_f(model_name, target_day):\n",
    "    return plot_cm(root_folder, model_name, target_day)\n",
    "\n",
    "filedirs = search_for_filedirs(root_folder, fext='expmet', verbose=0)\n",
    "model_names = list(set([fd.split('/')[-2] for fd in filedirs]))\n",
    "target_days = load_pickle(filedirs[0])['days'][::-1]\n",
    "interact(interact_f, model_name=model_names, target_day=target_days)"
   ]
  },
  {
   "cell_type": "code",
   "execution_count": null,
   "metadata": {},
   "outputs": [],
   "source": [
    "%load_ext autoreload\n",
    "%autoreload 2\n",
    "from ipywidgets import interact, fixed\n",
    "from flamingchoripan.myUtils.files import search_for_filedirs, load_pickle\n",
    "from src.results.plots import animation_cm\n",
    "\n",
    "filedirs = search_for_filedirs(root_folder, fext='expmet', verbose=0)\n",
    "model_names = list(set([fd.split('/')[-2] for fd in filedirs]))\n",
    "target_days = load_pickle(filedirs[0])['days']\n",
    "animation_cm(root_folder, model_names[0], target_days)"
   ]
  }
 ],
 "metadata": {
  "kernelspec": {
   "display_name": "Python 3",
   "language": "python",
   "name": "python3"
  },
  "language_info": {
   "codemirror_mode": {
    "name": "ipython",
    "version": 3
   },
   "file_extension": ".py",
   "mimetype": "text/x-python",
   "name": "python",
   "nbconvert_exporter": "python",
   "pygments_lexer": "ipython3",
   "version": "3.7.9"
  }
 },
 "nbformat": 4,
 "nbformat_minor": 2
}
