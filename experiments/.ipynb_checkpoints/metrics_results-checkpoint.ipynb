{
 "cells": [
  {
   "cell_type": "code",
   "execution_count": 3,
   "metadata": {},
   "outputs": [],
   "source": [
    "import sys\n",
    "sys.path.append('../') # or just install the module\n",
    "sys.path.append('../../fuzzy-torch') # or just install the module\n",
    "sys.path.append('../../fuzzy-tools') # or just install the module\n",
    "sys.path.append('../../astro-lightcurves-handler') # or just install the module"
   ]
  },
  {
   "cell_type": "code",
   "execution_count": null,
   "metadata": {},
   "outputs": [],
   "source": [
    "%load_ext autoreload\n",
    "%autoreload 2\n",
    "from lcclassifier.results.utils import get_model_names\n",
    "\n",
    "lcset_name = 'test'\n",
    "rootdir = '../save'\n",
    "method = 'spm-mcmc-estw'\n",
    "cfilename = f'survey=alerceZTFv7.1~bands=gr~mode=onlySNe~method={method}'\n",
    "kf = '0'\n",
    "\n",
    "model_names = get_model_names(rootdir, cfilename, kf, lcset_name)\n",
    "#model_names = [mn for mn in model_names if 'SelfAttn' in mn]\n",
    "#model_names = [mn for mn in model_names if 'b=129' in mn]\n",
    "model_names"
   ]
  },
  {
   "cell_type": "code",
   "execution_count": null,
   "metadata": {
    "scrolled": false
   },
   "outputs": [],
   "source": [
    "%load_ext autoreload\n",
    "%autoreload 2\n",
    "%matplotlib inline\n",
    "from lcclassifier.results.plots import plot_metric\n",
    "\n",
    "dmetrics = {\n",
    "    f'b-aucroc':{'k':1, 'mn':'b-AUCROC'},\n",
    "    #f'b-precision':{'k':1, 'mn':None},\n",
    "    f'b-recall':{'k':1, 'mn':None},\n",
    "    f'b-f1score':{'k':1, 'mn':None},\n",
    "    f'b-aucpr':{'k':1, 'mn':'b-AUCPR'},\n",
    "    }\n",
    "plot_metric(rootdir, cfilename, kf, lcset_name, model_names, dmetrics,\n",
    "    #'baselines_dict':baselines_dict,\n",
    "    percentile=60, # None 50 60 95\n",
    "    target_class=None, # None SLSN SNIbc SNII-b-n SNIa\n",
    "    )"
   ]
  },
  {
   "cell_type": "code",
   "execution_count": null,
   "metadata": {
    "scrolled": false
   },
   "outputs": [],
   "source": [
    "%load_ext autoreload\n",
    "%autoreload 2\n",
    "%matplotlib inline\n",
    "from lcclassifier.results.plots import plot_rocc\n",
    "\n",
    "target_class = 'SLSN' # SLSN SNIbc SNII-b-n SNIa\n",
    "plot_rocc(rootdir, cfilename, kf, lcset_name, model_names, target_class, 100.,\n",
    "    percentile=55, # None 50 55 95\n",
    "    )"
   ]
  },
  {
   "cell_type": "code",
   "execution_count": null,
   "metadata": {},
   "outputs": [],
   "source": [
    "assert 0"
   ]
  },
  {
   "cell_type": "code",
   "execution_count": null,
   "metadata": {
    "scrolled": false
   },
   "outputs": [],
   "source": [
    "%load_ext autoreload\n",
    "%autoreload 2\n",
    "from lcclassifier.results.cm import plot_cm\n",
    "\n",
    "lcset_name = 'test'\n",
    "kwargs = {\n",
    "    'export_animation':False, # False True\n",
    "}\n",
    "plot_cm(rootdir, cfilename, kf, lcset_name, model_names, **kwargs)"
   ]
  },
  {
   "cell_type": "code",
   "execution_count": null,
   "metadata": {
    "scrolled": false
   },
   "outputs": [],
   "source": [
    "%load_ext autoreload\n",
    "%autoreload 2\n",
    "from lcclassifier.results.tables import get_ps_performance_df\n",
    "from fuzzytools.latex.latex_tables import LatexTable\n",
    "\n",
    "dmetrics = {\n",
    "    f'b-precision':{'k':1, 'mn':None},\n",
    "    f'b-recall':{'k':1, 'mn':None},\n",
    "    f'b-f1score':{'k':1, 'mn':None},\n",
    "    f'b-aucroc':{'k':1, 'mn':'b-AUCROC'},\n",
    "    #f'b-aucpr':{'k':1, 'mn':'b-AUCPR'},\n",
    "    }\n",
    "kwargs = {\n",
    "    'uses_avg':False, # False True\n",
    "    'day':100,\n",
    "    #'override_model_name':False, # False True\n",
    "    'baseline_filedir':f'../temp/baseline~mode=all.df',\n",
    "    }\n",
    "info_df = get_ps_performance_df(rootdir, cfilename, kf, lcset_name, model_names, dmetrics, **kwargs)\n",
    "\n",
    "for k in range(0, len(info_df)):\n",
    "    info_df.indexs[k] = info_df.indexs[k].replace('=', '***').replace('model***', 'model=')\n",
    "display(info_df())\n",
    "\n",
    "caption = ''\n",
    "caption += f'Baseline method v/s deep learning models.'\n",
    "latex_kwargs = {\n",
    "    'centered':False,\n",
    "    'caption':caption,\n",
    "    'label':'?',\n",
    "    'bold_axis':'columns',\n",
    "    'repr_replace_dict':{'***':'='},\n",
    "}\n",
    "latex_table = LatexTable(info_df(), **latex_kwargs)\n",
    "print(latex_table)"
   ]
  },
  {
   "cell_type": "code",
   "execution_count": null,
   "metadata": {},
   "outputs": [],
   "source": [
    "assert 0"
   ]
  },
  {
   "cell_type": "code",
   "execution_count": null,
   "metadata": {
    "scrolled": false
   },
   "outputs": [],
   "source": [
    "%load_ext autoreload\n",
    "%autoreload 2\n",
    "from lcclassifier.results.plots import plot_temporal_encoding\n",
    "\n",
    "lcset_name = f'train.{method}'\n",
    "kwargs = {\n",
    "    }\n",
    "plot_temporal_encoding(rootdir, cfilename, kf, lcset_name, model_names, **kwargs)"
   ]
  },
  {
   "cell_type": "code",
   "execution_count": null,
   "metadata": {},
   "outputs": [],
   "source": [
    "assert 0"
   ]
  },
  {
   "cell_type": "code",
   "execution_count": null,
   "metadata": {},
   "outputs": [],
   "source": []
  },
  {
   "cell_type": "code",
   "execution_count": null,
   "metadata": {},
   "outputs": [],
   "source": []
  },
  {
   "cell_type": "code",
   "execution_count": null,
   "metadata": {
    "scrolled": false
   },
   "outputs": [],
   "source": [
    "%load_ext autoreload\n",
    "%autoreload 2\n",
    "from lcclassifier.results.tables import get_ps_times_df\n",
    "from fuzzytools.latex.latex_tables import LatexTable\n",
    "from fuzzytools.lists import get_min_elements\n",
    "\n",
    "kwargs = {\n",
    "    }\n",
    "info_df = get_ps_times_df(rootdir, cfilename, kf, method, model_names, **kwargs)\n",
    "\n",
    "for k in range(0, len(info_df)):\n",
    "    info_df.indexs[k] = info_df.indexs[k].replace('=', '***').replace('model***', 'model=')\n",
    "display(info_df())\n",
    "\n",
    "caption = ''\n",
    "caption += f'Training optimization times from all autoencoder models iterations. Validation set evaluation is included in total time.'\n",
    "latex_kwargs = {\n",
    "    #'centered':\n",
    "    'caption':caption,\n",
    "    'label':'?',\n",
    "    'bold_axis':'columns',\n",
    "    #'hline_k':3,\n",
    "    'repr_replace_dict':{'***':'='},\n",
    "    'bold_function':get_min_elements,\n",
    "}\n",
    "latex_table = LatexTable(info_df(), **latex_kwargs)\n",
    "print(latex_table)"
   ]
  }
 ],
 "metadata": {
  "kernelspec": {
   "display_name": "Python 3",
   "language": "python",
   "name": "python3"
  },
  "language_info": {
   "codemirror_mode": {
    "name": "ipython",
    "version": 3
   },
   "file_extension": ".py",
   "mimetype": "text/x-python",
   "name": "python",
   "nbconvert_exporter": "python",
   "pygments_lexer": "ipython3",
   "version": "3.7.10"
  }
 },
 "nbformat": 4,
 "nbformat_minor": 2
}
