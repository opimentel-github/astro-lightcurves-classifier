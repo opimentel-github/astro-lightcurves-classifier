{
 "cells": [
  {
   "cell_type": "code",
   "execution_count": 1,
   "metadata": {},
   "outputs": [],
   "source": [
    "import sys\n",
    "sys.path.append('../') # or just install the module\n",
    "sys.path.append('../../fuzzy-torch') # or just install the module\n",
    "sys.path.append('../../flaming-choripan') # or just install the module\n",
    "sys.path.append('../../astro-lightcurves-handler') # or just install the module"
   ]
  },
  {
   "cell_type": "code",
   "execution_count": 2,
   "metadata": {},
   "outputs": [
    {
     "name": "stdout",
     "output_type": "stream",
     "text": [
      "[0] mdl=ParallelTimeSelfAttn°in-dims=2°te-dims=2°enc-emb=g64-g64-g64.r64-r64-r64°dec-emb=g64-g64.r64-r64°mode=fine-tuning°rsc=0\n",
      "[1] mdl=ParallelTimeSelfAttn°in-dims=2°te-dims=32°enc-emb=g64-g64-g64.r64-r64-r64°dec-emb=g64-g64.r64-r64°mode=fine-tuning°rsc=0\n",
      "[2] mdl=ParallelTimeSelfAttn°in-dims=2°te-dims=4°enc-emb=g64-g64-g64.r64-r64-r64°dec-emb=g64-g64.r64-r64°mode=fine-tuning°rsc=0\n",
      "[3] mdl=ParallelTimeSelfAttn°in-dims=2°te-dims=8°enc-emb=g64-g64-g64.r64-r64-r64°dec-emb=g64-g64.r64-r64°mode=fine-tuning°rsc=0\n"
     ]
    }
   ],
   "source": [
    "%load_ext autoreload\n",
    "%autoreload 2\n",
    "from lcclassifier.results.utils import get_models_from_rootdir\n",
    "\n",
    "survey_name = 'alerceZTFv7.1'\n",
    "kf = 0\n",
    "set_name = f'{kf}@s_val' # r_train s_val r_val r_test\n",
    "rootdir = f'../save/experiments/{set_name}'\n",
    "cset_name = set_name.split('@')[-1]\n",
    "model_names = get_models_from_rootdir(f'{rootdir}/fine-tuning', fext='attnscores')\n",
    "for kmn,model_name in enumerate(model_names):\n",
    "    print(f'[{kmn}] {model_name}')"
   ]
  },
  {
   "cell_type": "code",
   "execution_count": 3,
   "metadata": {},
   "outputs": [
    {
     "name": "stdout",
     "output_type": "stream",
     "text": [
      "The autoreload extension is already loaded. To reload it, use:\n",
      "  %reload_ext autoreload\n",
      "mdl=ParallelTimeSelfAttn°in-dims=2°te-dims=32°enc-emb=g64-g64-g64.r64-r64-r64°dec-emb=g64-g64.r64-r64°mode=fine-tuning°rsc=0\n"
     ]
    }
   ],
   "source": [
    "%load_ext autoreload\n",
    "%autoreload 2\n",
    "\n",
    "idx = 1\n",
    "new_model_name = model_names[idx]\n",
    "print(new_model_name)"
   ]
  },
  {
   "cell_type": "code",
   "execution_count": 4,
   "metadata": {},
   "outputs": [
    {
     "name": "stdout",
     "output_type": "stream",
     "text": [
      "The autoreload extension is already loaded. To reload it, use:\n",
      "  %reload_ext autoreload\n",
      "[0][1#] mdl=ParallelTimeSelfAttn°in-dims=2°te-dims=32°enc-emb=g64-g64-g64.r64-r64-r64°dec-emb=g64-g64.r64-r64°mode=fine-tuning°rsc=0\n",
      "{'i': 3, 'b': 'g', 'c': 'SNIa', 'b_len': 48, 'attn_entropy': -10.705932, 'attn_entropy/len': -0.223040242989858, 'attn_scores': 1.9641287326812744, 'attn_scores_min_max': 0.6753251552581787, 'obs': 0.06428573858633412, 'obs_min_max': 0.15687919734844707, 'obse': 0.009640600915945622, 'obse_min_max': 0.4244485421798703, 'wobs': 691.68118216196, 'wobs_min_max': 0.09953162258557276, 'lineal_trend': 0.008469451250286511, 'peak_day': 18.991127052697784, 'day': 3.8918662420373824, 'days_from_peak': -18.03701101901481}\n"
     ]
    },
    {
     "data": {
      "image/png": "[encoded data removed]",
      "text/plain": [
       "<Figure size 864x432 with 2 Axes>"
      ]
     },
     "metadata": {
      "needs_background": "light"
     },
     "output_type": "display_data"
    }
   ],
   "source": [
    "%load_ext autoreload\n",
    "%autoreload 2\n",
    "from lcclassifier.results.attention import plot_attention_statistics\n",
    "\n",
    "attn_kwargs = {\n",
    "    'N':20,\n",
    "    'bins_xrange':[0, 1],\n",
    "    'bins_yrange':[0, 1],\n",
    "    'extent':[0, 1, 0, 1],\n",
    "}\n",
    "plot_attention_statistics(rootdir, new_model_name, 'obse_min_max', 'obs_min_max', **attn_kwargs)"
   ]
  },
  {
   "cell_type": "code",
   "execution_count": null,
   "metadata": {},
   "outputs": [
    {
     "name": "stdout",
     "output_type": "stream",
     "text": [
      "The autoreload extension is already loaded. To reload it, use:\n",
      "  %reload_ext autoreload\n",
      "[0][1#] mdl=ParallelTimeSelfAttn°in-dims=2°te-dims=32°enc-emb=g64-g64-g64.r64-r64-r64°dec-emb=g64-g64.r64-r64°mode=fine-tuning°rsc=0\n"
     ]
    }
   ],
   "source": [
    "%load_ext autoreload\n",
    "%autoreload 2\n",
    "from lcclassifier.results.attention import plot_attention_statistics\n",
    "\n",
    "N = 75\n",
    "attn_kwargs1 = {\n",
    "    'N':N,\n",
    "    'bins_xrange':[-15, 40],\n",
    "    'bins_yrange':[-.04, .04],\n",
    "}\n",
    "attn_kwargs2 = {\n",
    "    'N':N,\n",
    "    'bins_xrange':[-10, 20],\n",
    "    'bins_yrange':[-.01, .01],\n",
    "}\n",
    "plot_attention_statistics(rootdir, new_model_name, 'days_from_peak', 'lineal_trend', **attn_kwargs1)\n",
    "plot_attention_statistics(rootdir, new_model_name, 'days_from_peak', 'lineal_trend', **attn_kwargs2)"
   ]
  }
 ],
 "metadata": {
  "kernelspec": {
   "display_name": "Python 3",
   "language": "python",
   "name": "python3"
  },
  "language_info": {
   "codemirror_mode": {
    "name": "ipython",
    "version": 3
   },
   "file_extension": ".py",
   "mimetype": "text/x-python",
   "name": "python",
   "nbconvert_exporter": "python",
   "pygments_lexer": "ipython3",
   "version": "3.7.9"
  }
 },
 "nbformat": 4,
 "nbformat_minor": 4
}
