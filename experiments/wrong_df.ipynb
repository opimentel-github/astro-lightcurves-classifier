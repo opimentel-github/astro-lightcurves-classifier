{
 "cells": [
  {
   "cell_type": "code",
   "execution_count": 1,
   "id": "5c46592a",
   "metadata": {},
   "outputs": [],
   "source": [
    "import sys\n",
    "sys.path.append('../') # or just install the module\n",
    "sys.path.append('../../fuzzy-tools') # or just install the module\n",
    "sys.path.append('../../astro-lightcurves-handler') # or just install the module"
   ]
  },
  {
   "cell_type": "code",
   "execution_count": 2,
   "id": "12dc7e39",
   "metadata": {},
   "outputs": [
    {
     "name": "stdout",
     "output_type": "stream",
     "text": [
      "==============================linear-fstw\n"
     ]
    },
    {
     "ename": "KeyError",
     "evalue": "'test'",
     "output_type": "error",
     "traceback": [
      "\u001b[0;31m---------------------------------------------------------------------------\u001b[0m",
      "\u001b[0;31mKeyError\u001b[0m                                  Traceback (most recent call last)",
      "\u001b[0;32m<ipython-input-2-ec8649959dca>\u001b[0m in \u001b[0;36m<module>\u001b[0;34m\u001b[0m\n\u001b[1;32m     38\u001b[0m     \u001b[0;32mfor\u001b[0m \u001b[0mtrain_config\u001b[0m \u001b[0;32min\u001b[0m \u001b[0;34m[\u001b[0m\u001b[0;34m'r'\u001b[0m\u001b[0;34m,\u001b[0m \u001b[0;34m's'\u001b[0m\u001b[0;34m,\u001b[0m \u001b[0;34m'r+s'\u001b[0m\u001b[0;34m]\u001b[0m\u001b[0;34m:\u001b[0m\u001b[0;34m\u001b[0m\u001b[0;34m\u001b[0m\u001b[0m\n\u001b[1;32m     39\u001b[0m         \u001b[0mrootdir\u001b[0m \u001b[0;34m=\u001b[0m \u001b[0;34mf'../save/exp=rf_eval~train_config={train_config}~mode={mode}/survey=alerceZTFv7.1~bands=gr~mode=onlySNe~method={method}'\u001b[0m\u001b[0;34m\u001b[0m\u001b[0;34m\u001b[0m\u001b[0m\n\u001b[0;32m---> 40\u001b[0;31m         \u001b[0mfiles\u001b[0m\u001b[0;34m,\u001b[0m \u001b[0mfiles_ids\u001b[0m \u001b[0;34m=\u001b[0m \u001b[0mgather_files_by_kfold\u001b[0m\u001b[0;34m(\u001b[0m\u001b[0mrootdir\u001b[0m\u001b[0;34m,\u001b[0m \u001b[0mkf\u001b[0m\u001b[0;34m,\u001b[0m \u001b[0meval_lcset_name\u001b[0m\u001b[0;34m)\u001b[0m\u001b[0;34m\u001b[0m\u001b[0;34m\u001b[0m\u001b[0m\n\u001b[0m\u001b[1;32m     41\u001b[0m         \u001b[0mclass_names\u001b[0m \u001b[0;34m=\u001b[0m \u001b[0mfiles\u001b[0m\u001b[0;34m[\u001b[0m\u001b[0;36m0\u001b[0m\u001b[0;34m]\u001b[0m\u001b[0;34m(\u001b[0m\u001b[0;34m)\u001b[0m\u001b[0;34m[\u001b[0m\u001b[0;34m'lcset_info'\u001b[0m\u001b[0;34m]\u001b[0m\u001b[0;34m[\u001b[0m\u001b[0;34m'class_names'\u001b[0m\u001b[0;34m]\u001b[0m\u001b[0;34m\u001b[0m\u001b[0;34m\u001b[0m\u001b[0m\n\u001b[1;32m     42\u001b[0m         \u001b[0mfeatures\u001b[0m \u001b[0;34m=\u001b[0m \u001b[0mfiles\u001b[0m\u001b[0;34m[\u001b[0m\u001b[0;36m0\u001b[0m\u001b[0;34m]\u001b[0m\u001b[0;34m(\u001b[0m\u001b[0;34m)\u001b[0m\u001b[0;34m[\u001b[0m\u001b[0;34m'features'\u001b[0m\u001b[0;34m]\u001b[0m\u001b[0;34m\u001b[0m\u001b[0;34m\u001b[0m\u001b[0m\n",
      "\u001b[0;32m~/tesis/fuzzy-tools/fuzzytools/files.py\u001b[0m in \u001b[0;36mgather_files_by_kfold\u001b[0;34m(rootdir, kf, kf_set, id_key, key_key_separator, key_value_separator, fext, kf_str, create_dir)\u001b[0m\n\u001b[1;32m    448\u001b[0m \u001b[0;34m\u001b[0m\u001b[0m\n\u001b[1;32m    449\u001b[0m         \u001b[0;32melse\u001b[0m\u001b[0;34m:\u001b[0m\u001b[0;34m\u001b[0m\u001b[0;34m\u001b[0m\u001b[0m\n\u001b[0;32m--> 450\u001b[0;31m                 \u001b[0mkfrd\u001b[0m \u001b[0;34m=\u001b[0m \u001b[0mkfold_rootdirs_dict\u001b[0m\u001b[0;34m[\u001b[0m\u001b[0mkf_set\u001b[0m\u001b[0;34m]\u001b[0m\u001b[0;34m[\u001b[0m\u001b[0mstr\u001b[0m\u001b[0;34m(\u001b[0m\u001b[0mkf\u001b[0m\u001b[0;34m)\u001b[0m\u001b[0;34m]\u001b[0m\u001b[0;34m\u001b[0m\u001b[0;34m\u001b[0m\u001b[0m\n\u001b[0m\u001b[1;32m    451\u001b[0m \t\tfiles, files_ids = gather_files_by_id(kfrd,\n\u001b[1;32m    452\u001b[0m                         \u001b[0mid_key\u001b[0m\u001b[0;34m,\u001b[0m\u001b[0;34m\u001b[0m\u001b[0;34m\u001b[0m\u001b[0m\n",
      "\u001b[0;31mKeyError\u001b[0m: 'test'"
     ]
    }
   ],
   "source": [
    "%load_ext autoreload\n",
    "%autoreload 2\n",
    "import numpy as np\n",
    "from fuzzytools.files import search_for_filedirs, gather_files_by_kfold\n",
    "from fuzzytools.cuteplots.cm_plots import plot_custom_confusion_matrix\n",
    "import matplotlib.pyplot as plt\n",
    "from fuzzytools.datascience.xerror import XError\n",
    "from IPython.display import display\n",
    "\n",
    "def get_kf_text(set_name, kf):\n",
    "    if kf=='.':\n",
    "        return f'($\\\\mu\\\\pm\\\\sigma$ from 5-fold cross-validation in {set_name}-set)'\n",
    "    else:\n",
    "        return f'($\\\\mu\\\\pm\\\\sigma$ from {kf} k-fold in {set_name}-set)'\n",
    "\n",
    "def get_mode_text(mode, features):\n",
    "    if mode=='sne':\n",
    "        return f'Using {len(features)} SNe selected astrophysical features'\n",
    "    else:\n",
    "        return f'Using {len(features)} astrophysical features'\n",
    "    \n",
    "mode = 'all' # all sne\n",
    "methods = [\n",
    "    'linear-fstw',\n",
    "    'bspline-fstw',\n",
    "    #'spm-mle-fstw',\n",
    "    'spm-mcmc-fstw',\n",
    "    #'spm-mle-estw',\n",
    "    'spm-mcmc-estw',\n",
    "]\n",
    "#methods = ['spm-mcmc-estw']\n",
    "eval_lcset_name = 'test'\n",
    "kf = '0'\n",
    "\n",
    "for method in methods:\n",
    "    print('='*30+method)\n",
    "    #for train_config in ['r', 's']:\n",
    "    for train_config in ['r', 's', 'r+s']:\n",
    "        rootdir = f'../save/exp=rf_eval~train_config={train_config}~mode={mode}/survey=alerceZTFv7.1~bands=gr~mode=onlySNe~method={method}'\n",
    "        files, files_ids = gather_files_by_kfold(rootdir, kf, eval_lcset_name)\n",
    "        class_names = files[0]()['lcset_info']['class_names']\n",
    "        features = files[0]()['features']\n",
    "        cms = np.concatenate([f()['cm'][None] for f in files], axis=0)\n",
    "        bprecision_xe = XError([f()['metrics_dict']['b-precision'] for f in files])\n",
    "        brecall_xe = XError([f()['metrics_dict']['b-recall'] for f in files])\n",
    "        bf1score_xe = XError([f()['metrics_dict']['b-f1score'] for f in files])\n",
    "\n",
    "        ### plot cm\n",
    "        _title = 'no-method [r]' if train_config=='r' else f'{method} [{train_config}]'\n",
    "        title = ''\n",
    "        title += f'features-mode={mode}'+'\\n'\n",
    "        title += f'train-set={_title} - eval-set={kf}@{eval_lcset_name}'+'\\n'\n",
    "        #title += f'b-p/r={bprecision_xe} / {brecall_xe}'+'\\n'\n",
    "        #title += f'b-f1score={bf1score_xe}'+'\\n'\n",
    "        title += f'b-recall={brecall_xe} - b-f1score={bf1score_xe}'+'\\n'\n",
    "        cm_kwargs = {\n",
    "            'title':title[:-1],\n",
    "            'figsize':(6,5),\n",
    "            'new_order_classes':['SNIa', 'SNIbc', 'SNII-b-n', 'SLSN'],\n",
    "        }\n",
    "        fig, ax, cm_norm = plot_custom_confusion_matrix(cms, class_names, **cm_kwargs)\n",
    "        #accu = XError(np.diagonal(cm_norm*100, axis1=1, axis2=2).flatten().tolist())\n",
    "        #title += f'b-accu={accu}'+'\\n'\n",
    "        #ax.set_title(title[:-1])\n",
    "        #print(files[0]()['features'])\n",
    "        caption = ''\n",
    "        caption += f'Confusion matrix.'\n",
    "        caption += f' {get_mode_text(mode, features)} {get_kf_text(eval_lcset_name, kf)}'\n",
    "        print(caption)\n",
    "        plt.show()\n",
    "        #assert 0\n",
    "        print(class_names)\n",
    "        print(files[0]()['rank'])\n",
    "        df = files[0]()['wrongs_df']\n",
    "        #display(df[df['_y']==0])\n",
    "        #display(df[df['_y']==2])"
   ]
  },
  {
   "cell_type": "code",
   "execution_count": null,
   "id": "b4c2364a",
   "metadata": {},
   "outputs": [],
   "source": []
  },
  {
   "cell_type": "code",
   "execution_count": null,
   "id": "1afc3228",
   "metadata": {},
   "outputs": [],
   "source": []
  },
  {
   "cell_type": "code",
   "execution_count": null,
   "id": "53ad1cd9",
   "metadata": {},
   "outputs": [],
   "source": []
  },
  {
   "cell_type": "code",
   "execution_count": null,
   "id": "04248168",
   "metadata": {},
   "outputs": [],
   "source": []
  }
 ],
 "metadata": {
  "kernelspec": {
   "display_name": "Python 3",
   "language": "python",
   "name": "python3"
  },
  "language_info": {
   "codemirror_mode": {
    "name": "ipython",
    "version": 3
   },
   "file_extension": ".py",
   "mimetype": "text/x-python",
   "name": "python",
   "nbconvert_exporter": "python",
   "pygments_lexer": "ipython3",
   "version": "3.7.10"
  }
 },
 "nbformat": 4,
 "nbformat_minor": 5
}
