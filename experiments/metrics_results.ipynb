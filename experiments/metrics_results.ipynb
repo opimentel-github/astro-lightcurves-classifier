{
 "cells": [
  {
   "cell_type": "code",
   "execution_count": 1,
   "metadata": {},
   "outputs": [],
   "source": [
    "import sys\n",
    "sys.path.append('../') # or just install the module\n",
    "sys.path.append('../../fuzzy-torch') # or just install the module\n",
    "sys.path.append('../../flaming-choripan') # or just install the module\n",
    "sys.path.append('../../astro-lightcurves-handler') # or just install the module"
   ]
  },
  {
   "cell_type": "code",
   "execution_count": 2,
   "metadata": {},
   "outputs": [
    {
     "data": {
      "text/plain": [
       "[]"
      ]
     },
     "execution_count": 2,
     "metadata": {},
     "output_type": "execute_result"
    }
   ],
   "source": [
    "%load_ext autoreload\n",
    "%autoreload 2\n",
    "from flamingchoripan.files import get_roodirs\n",
    "\n",
    "rootdir = '../save'\n",
    "kf = '0'\n",
    "mode = 'fine-tuning'\n",
    "method = 'spm-mcmc-estw'\n",
    "\n",
    "cfilename = f'survey=alerceZTFv7.1~bands=gr~mode=onlySNe~method={method}'\n",
    "roodirs = get_roodirs(rootdir)\n",
    "model_names = [r.split('/')[-1] for r in roodirs if '~' in r] # patch\n",
    "model_names"
   ]
  },
  {
   "cell_type": "code",
   "execution_count": 3,
   "metadata": {},
   "outputs": [],
   "source": [
    "baselines_dict = {\n",
    "    '0@val':{\n",
    "        'b-accuracy':65.86,\n",
    "        'b-f1score':.43,\n",
    "    },\n",
    "    '0@test':{\n",
    "        'b-accuracy':60.38,\n",
    "        'b-f1score':.45,\n",
    "    },\n",
    "}"
   ]
  },
  {
   "cell_type": "code",
   "execution_count": 4,
   "metadata": {
    "scrolled": false
   },
   "outputs": [
    {
     "name": "stdout",
     "output_type": "stream",
     "text": [
      "The autoreload extension is already loaded. To reload it, use:\n",
      "  %reload_ext autoreload\n"
     ]
    },
    {
     "ename": "UnboundLocalError",
     "evalue": "local variable 'survey' referenced before assignment",
     "output_type": "error",
     "traceback": [
      "\u001b[0;31m---------------------------------------------------------------------------\u001b[0m",
      "\u001b[0;31mUnboundLocalError\u001b[0m                         Traceback (most recent call last)",
      "\u001b[0;32m<ipython-input-4-80dac485bd27>\u001b[0m in \u001b[0;36m<module>\u001b[0;34m\u001b[0m\n\u001b[1;32m     24\u001b[0m     \u001b[0;34m'p'\u001b[0m\u001b[0;34m:\u001b[0m\u001b[0;36m5\u001b[0m\u001b[0;34m,\u001b[0m\u001b[0;34m\u001b[0m\u001b[0;34m\u001b[0m\u001b[0m\n\u001b[1;32m     25\u001b[0m }\n\u001b[0;32m---> 26\u001b[0;31m \u001b[0mplot_metric\u001b[0m\u001b[0;34m(\u001b[0m\u001b[0mrootdir\u001b[0m\u001b[0;34m,\u001b[0m \u001b[0mcfilename\u001b[0m\u001b[0;34m,\u001b[0m \u001b[0mkf\u001b[0m\u001b[0;34m,\u001b[0m \u001b[0mlcset_name\u001b[0m\u001b[0;34m,\u001b[0m \u001b[0mmodel_names\u001b[0m\u001b[0;34m,\u001b[0m \u001b[0mdmetrics\u001b[0m\u001b[0;34m,\u001b[0m \u001b[0;34m**\u001b[0m\u001b[0mkwargs\u001b[0m\u001b[0;34m)\u001b[0m\u001b[0;34m\u001b[0m\u001b[0;34m\u001b[0m\u001b[0m\n\u001b[0m",
      "\u001b[0;32m~/tesis/astro-lightcurves-classifier/lcclassifier/results/plots.py\u001b[0m in \u001b[0;36mplot_metric\u001b[0;34m(rootdir, cfilename, kf, lcset_name, model_names, dmetrics, baselines_dict, label_keys, figsize, train_mode, p, alpha)\u001b[0m\n\u001b[1;32m     63\u001b[0m                 \u001b[0mtitle\u001b[0m \u001b[0;34m=\u001b[0m \u001b[0;34m''\u001b[0m\u001b[0;34m\u001b[0m\u001b[0;34m\u001b[0m\u001b[0m\n\u001b[1;32m     64\u001b[0m                 \u001b[0mtitle\u001b[0m \u001b[0;34m+=\u001b[0m \u001b[0;34mf'{mn} v/s days'\u001b[0m\u001b[0;34m+\u001b[0m\u001b[0;34m'\\n'\u001b[0m\u001b[0;34m\u001b[0m\u001b[0;34m\u001b[0m\u001b[0m\n\u001b[0;32m---> 65\u001b[0;31m                 \u001b[0mtitle\u001b[0m \u001b[0;34m+=\u001b[0m \u001b[0;34mf'train-mode={train_mode} - survey={survey}-{\"\".join(band_names)} [{kf}@{lcset_name}]'\u001b[0m\u001b[0;34m+\u001b[0m\u001b[0;34m'\\n'\u001b[0m\u001b[0;34m\u001b[0m\u001b[0;34m\u001b[0m\u001b[0m\n\u001b[0m\u001b[1;32m     66\u001b[0m                 \u001b[0mfig\u001b[0m\u001b[0;34m.\u001b[0m\u001b[0msuptitle\u001b[0m\u001b[0;34m(\u001b[0m\u001b[0mtitle\u001b[0m\u001b[0;34m[\u001b[0m\u001b[0;34m:\u001b[0m\u001b[0;34m-\u001b[0m\u001b[0;36m1\u001b[0m\u001b[0;34m]\u001b[0m\u001b[0;34m,\u001b[0m \u001b[0mva\u001b[0m\u001b[0;34m=\u001b[0m\u001b[0;34m'bottom'\u001b[0m\u001b[0;34m)\u001b[0m\u001b[0;34m\u001b[0m\u001b[0;34m\u001b[0m\u001b[0m\n\u001b[1;32m     67\u001b[0m \u001b[0;34m\u001b[0m\u001b[0m\n",
      "\u001b[0;31mUnboundLocalError\u001b[0m: local variable 'survey' referenced before assignment"
     ]
    },
    {
     "data": {
      "image/png": "[encoded data removed]",
      "text/plain": [
       "<Figure size 1080x504 with 2 Axes>"
      ]
     },
     "metadata": {
      "needs_background": "light"
     },
     "output_type": "display_data"
    }
   ],
   "source": [
    "%load_ext autoreload\n",
    "%autoreload 2\n",
    "from lcclassifier.results.plots import plot_metric\n",
    "\n",
    "label_keys = [\n",
    "    'cell',\n",
    "    'aggr',\n",
    "    'te-dims',\n",
    "    'rsc',\n",
    "    'bypass',\n",
    "    'b',\n",
    "]\n",
    "lcset_name = 'test'\n",
    "dmetrics = {\n",
    "    #f'b-precision':{'k':1, 'mn':None},\n",
    "    #f'b-recall':{'k':1, 'mn':None},\n",
    "    #f'b-f1score':{'k':1, 'mn':None},\n",
    "    f'b-rocauc':{'k':1, 'mn':'b-AUCROC'},\n",
    "    #f'b-prauc':{'k':1, 'mn':'b-AUCPR'},\n",
    "    }\n",
    "kwargs = {\n",
    "    'label_keys':label_keys,\n",
    "    #'baselines_dict':baselines_dict,\n",
    "    'p':5,\n",
    "}\n",
    "plot_metric(rootdir, cfilename, kf, lcset_name, model_names, dmetrics, **kwargs)"
   ]
  },
  {
   "cell_type": "code",
   "execution_count": null,
   "metadata": {},
   "outputs": [],
   "source": [
    "assert 0"
   ]
  },
  {
   "cell_type": "code",
   "execution_count": null,
   "metadata": {
    "scrolled": false
   },
   "outputs": [],
   "source": [
    "%load_ext autoreload\n",
    "%autoreload 2\n",
    "from lcclassifier.results.plots import plot_cm\n",
    "\n",
    "label_keys = [\n",
    "    'cell',\n",
    "    'aggr',\n",
    "    'te-dims',\n",
    "]\n",
    "lcset_name = 'test'\n",
    "kwargs = {\n",
    "    'label_keys':label_keys,\n",
    "    'export_animation':True, # False True\n",
    "}\n",
    "plot_cm(rootdir, cfilename, kf, lcset_name, model_names, **kwargs)"
   ]
  },
  {
   "cell_type": "code",
   "execution_count": null,
   "metadata": {
    "scrolled": false
   },
   "outputs": [],
   "source": [
    "%load_ext autoreload\n",
    "%autoreload 2\n",
    "from lcclassifier.results.plots import plot_temporal_encoding\n",
    "\n",
    "label_keys = [\n",
    "    'cell',\n",
    "    'aggr',\n",
    "    'te-dims',\n",
    "]\n",
    "lcset_name = f'train.{method}'\n",
    "kwargs = {\n",
    "    'label_keys':label_keys,\n",
    "}\n",
    "plot_temporal_encoding(rootdir, cfilename, kf, lcset_name, model_names, **kwargs)"
   ]
  },
  {
   "cell_type": "code",
   "execution_count": null,
   "metadata": {},
   "outputs": [],
   "source": [
    "assert 0"
   ]
  },
  {
   "cell_type": "code",
   "execution_count": null,
   "metadata": {},
   "outputs": [],
   "source": []
  },
  {
   "cell_type": "code",
   "execution_count": null,
   "metadata": {},
   "outputs": [],
   "source": []
  },
  {
   "cell_type": "code",
   "execution_count": null,
   "metadata": {},
   "outputs": [],
   "source": []
  },
  {
   "cell_type": "code",
   "execution_count": null,
   "metadata": {
    "scrolled": false
   },
   "outputs": [],
   "source": [
    "%load_ext autoreload\n",
    "%autoreload 2\n",
    "from lcclassifier.results.tables import get_parallel_serial_df\n",
    "from flamingchoripan.latex.latex_tables import LatexTable\n",
    "\n",
    "dmetrics = {\n",
    "    #f'b-precision':{'k':1, 'mn':None},\n",
    "    f'b-recall':{'k':1, 'mn':None},\n",
    "    f'b-f1score':{'k':1, 'mn':None},\n",
    "    f'b-rocauc':{'k':1, 'mn':'b-ROCAUC'},\n",
    "    #f'b-prauc':{'k':1, 'mn':'b-PRAUC'},\n",
    "    }\n",
    "kwargs = {\n",
    "    'day_to_metric':100,\n",
    "    #'override_model_name':False, # False True\n",
    "    'label_keys':label_keys,\n",
    "    }\n",
    "info_df = get_parallel_serial_df(rootdir, cfilename, kf, lcset_name, model_names, metric_names, **kwargs)\n",
    "\n",
    "latex_kwargs = {\n",
    "    'caption':f'{query_key} {day_to_metric} {set_name}'.replace('_', '\\\\_'),\n",
    "    'label':'?',\n",
    "    #'bold_criteriums':'max',\n",
    "    #'custom_tabular_align':'l|'+'c'*sum([m.split('-')[-1]=='fstw' for m in methods])+'|'+'c'*sum([m.split('-')[-1]=='estw' for m in methods]),\n",
    "    #'custom_tabular_align':'l|cc|cc|cc',\n",
    "    'hline_k':1,\n",
    "}\n",
    "latex_table = LatexTable(info_df, **latex_kwargs)\n",
    "print(latex_table)\n",
    "info_df"
   ]
  },
  {
   "cell_type": "code",
   "execution_count": null,
   "metadata": {},
   "outputs": [],
   "source": [
    "%load_ext autoreload\n",
    "%autoreload 2\n",
    "from lcclassifier.results.times import get_times_df\n",
    "\n",
    "kwargs = {\n",
    "    #'override_model_name':False, # False True\n",
    "    'label_keys':label_keys,\n",
    "    }\n",
    "info_df = get_times_df(rootdir, cfilename, kf, lcset_name, model_names, **kwargs)\n",
    "info_df"
   ]
  },
  {
   "cell_type": "code",
   "execution_count": null,
   "metadata": {},
   "outputs": [],
   "source": []
  }
 ],
 "metadata": {
  "kernelspec": {
   "display_name": "Python 3",
   "language": "python",
   "name": "python3"
  },
  "language_info": {
   "codemirror_mode": {
    "name": "ipython",
    "version": 3
   },
   "file_extension": ".py",
   "mimetype": "text/x-python",
   "name": "python",
   "nbconvert_exporter": "python",
   "pygments_lexer": "ipython3",
   "version": "3.7.10"
  }
 },
 "nbformat": 4,
 "nbformat_minor": 2
}
