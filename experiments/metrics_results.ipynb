{
 "cells": [
  {
   "cell_type": "code",
   "execution_count": 11,
   "metadata": {},
   "outputs": [],
   "source": [
    "import sys\n",
    "sys.path.append('../') # or just install the module\n",
    "sys.path.append('../../fuzzy-torch') # or just install the module\n",
    "sys.path.append('../../flaming-choripan') # or just install the module\n",
    "sys.path.append('../../astro-lightcurves-handler') # or just install the module"
   ]
  },
  {
   "cell_type": "markdown",
   "metadata": {},
   "source": [
    "# search model's results"
   ]
  },
  {
   "cell_type": "code",
   "execution_count": 138,
   "metadata": {},
   "outputs": [
    {
     "name": "stdout",
     "output_type": "stream",
     "text": [
      "The autoreload extension is already loaded. To reload it, use:\n",
      "  %reload_ext autoreload\n",
      "[0] mdl=ParallelRNN°in-dims=3°te-dims=0°enc-emb=g64-g64-g64.r64-r64-r64°dec-emb=g64-g64.r64-r64°cell=GRU°mode=pre-training°rsc=0\n",
      "[1] mdl=ParallelTCNN°in-dims=3°te-dims=0°enc-emb=g64-g64-g64.r64-r64-r64°dec-emb=g64-g64.r64-r64°aggr=max°mode=pre-training°rsc=0\n",
      "[2] mdl=ParallelTimeSelfAttn°in-dims=2°te-dims=32°enc-emb=g64-g64-g64.r64-r64-r64°dec-emb=g64-g64.r64-r64°mode=pre-training°rsc=0\n"
     ]
    }
   ],
   "source": [
    "%load_ext autoreload\n",
    "%autoreload 2\n",
    "from lcclassifier.results.plots import get_models_from_rootdir\n",
    "\n",
    "survey_name = 'alerceZTFv7.1'\n",
    "kf = 0\n",
    "set_name = f'{kf}@r_test' # r_train s_val r_val r_test\n",
    "rootdir = f'../save/experiments/{set_name}'\n",
    "cset_name = set_name.split('@')[-1]\n",
    "model_names = get_models_from_rootdir(f'{rootdir}/pre-training')\n",
    "for kmn,model_name in enumerate(model_names):\n",
    "    print(f'[{kmn}] {model_name}')"
   ]
  },
  {
   "cell_type": "code",
   "execution_count": 139,
   "metadata": {},
   "outputs": [
    {
     "name": "stdout",
     "output_type": "stream",
     "text": [
      "The autoreload extension is already loaded. To reload it, use:\n",
      "  %reload_ext autoreload\n",
      "[0] mdl=ParallelRNN°in-dims=3°te-dims=0°enc-emb=g64-g64-g64.r64-r64-r64°dec-emb=g64-g64.r64-r64°cell=GRU°mode=pre-training°rsc=0\n",
      "[1] mdl=ParallelTCNN°in-dims=3°te-dims=0°enc-emb=g64-g64-g64.r64-r64-r64°dec-emb=g64-g64.r64-r64°aggr=max°mode=pre-training°rsc=0\n",
      "[2] mdl=ParallelTimeSelfAttn°in-dims=2°te-dims=32°enc-emb=g64-g64-g64.r64-r64-r64°dec-emb=g64-g64.r64-r64°mode=pre-training°rsc=0\n"
     ]
    }
   ],
   "source": [
    "%load_ext autoreload\n",
    "%autoreload 2\n",
    "from lcclassifier.results.plots import filter_models\n",
    "\n",
    "condition_dict = {\n",
    "    #'mdl':['ParallelAttnTCNN', 'SerialAttnTCNN'],\n",
    "    'cell':['GRU', 'LSTM'],\n",
    "    #'aggregation':['max', 'avg'],\n",
    "}\n",
    "idxs = [\n",
    "    0,1,2,\n",
    "    3,7,9,\n",
    "]\n",
    "new_model_names = model_names\n",
    "#new_model_names = filter_models(model_names, condition_dict)\n",
    "#new_model_names = [model_names[idx] for idx,model_name in enumerate(model_names) if idx in idxs]\n",
    "for kmn,model_name in enumerate(new_model_names):\n",
    "    print(f'[{kmn}] {model_name}')"
   ]
  },
  {
   "cell_type": "markdown",
   "metadata": {},
   "source": [
    "# metrics v/s days"
   ]
  },
  {
   "cell_type": "code",
   "execution_count": 140,
   "metadata": {},
   "outputs": [],
   "source": [
    "baselines_dict = {\n",
    "    'r_val':{\n",
    "        'b-accuracy':65.86,\n",
    "        'b-f1score':.43,\n",
    "    },\n",
    "    'r_test':{\n",
    "        'b-accuracy':60.38,\n",
    "        'b-f1score':.45,\n",
    "    },\n",
    "}"
   ]
  },
  {
   "cell_type": "code",
   "execution_count": 143,
   "metadata": {
    "scrolled": false
   },
   "outputs": [
    {
     "name": "stdout",
     "output_type": "stream",
     "text": [
      "The autoreload extension is already loaded. To reload it, use:\n",
      "  %reload_ext autoreload\n",
      "[0][1#] mdl=ParallelRNN°in-dims=3°te-dims=0°enc-emb=g64-g64-g64.r64-r64-r64°dec-emb=g64-g64.r64-r64°cell=GRU°mode=pre-training°rsc=0\n",
      "[1][1#] mdl=ParallelTCNN°in-dims=3°te-dims=0°enc-emb=g64-g64-g64.r64-r64-r64°dec-emb=g64-g64.r64-r64°aggr=max°mode=pre-training°rsc=0\n",
      "[2][1#] mdl=ParallelTimeSelfAttn°in-dims=2°te-dims=32°enc-emb=g64-g64-g64.r64-r64-r64°dec-emb=g64-g64.r64-r64°mode=pre-training°rsc=0\n",
      "[0][0#] mdl=ParallelRNN°in-dims=3°te-dims=0°enc-emb=g64-g64-g64.r64-r64-r64°dec-emb=g64-g64.r64-r64°cell=GRU°mode=pre-training°rsc=0\n"
     ]
    },
    {
     "ename": "ValueError",
     "evalue": "need at least one array to concatenate",
     "output_type": "error",
     "traceback": [
      "\u001b[0;31m---------------------------------------------------------------------------\u001b[0m",
      "\u001b[0;31mValueError\u001b[0m                                Traceback (most recent call last)",
      "\u001b[0;32m<ipython-input-143-1f7f22bd0e13>\u001b[0m in \u001b[0;36m<module>\u001b[0;34m\u001b[0m\n\u001b[1;32m     10\u001b[0m \u001b[0mmetric_name\u001b[0m \u001b[0;34m=\u001b[0m \u001b[0;34m'b-accuracy'\u001b[0m\u001b[0;34m\u001b[0m\u001b[0;34m\u001b[0m\u001b[0m\n\u001b[1;32m     11\u001b[0m \u001b[0;31m#metric_name = 'b-f1score'\u001b[0m\u001b[0;34m\u001b[0m\u001b[0;34m\u001b[0m\u001b[0;34m\u001b[0m\u001b[0m\n\u001b[0;32m---> 12\u001b[0;31m \u001b[0mplot_metric\u001b[0m\u001b[0;34m(\u001b[0m\u001b[0mrootdir\u001b[0m\u001b[0;34m,\u001b[0m \u001b[0mmetric_name\u001b[0m\u001b[0;34m,\u001b[0m \u001b[0mnew_model_names\u001b[0m\u001b[0;34m,\u001b[0m \u001b[0mbaselines_dict\u001b[0m\u001b[0;34m.\u001b[0m\u001b[0mget\u001b[0m\u001b[0;34m(\u001b[0m\u001b[0mcset_name\u001b[0m\u001b[0;34m,\u001b[0m \u001b[0;32mNone\u001b[0m\u001b[0;34m)\u001b[0m\u001b[0;34m,\u001b[0m \u001b[0mlabel_keys\u001b[0m\u001b[0;34m)\u001b[0m\u001b[0;34m\u001b[0m\u001b[0;34m\u001b[0m\u001b[0m\n\u001b[0m",
      "\u001b[0;32m~/tesis/astro-lightcurves-classifier/lcclassifier/results/plots.py\u001b[0m in \u001b[0;36mplot_metric\u001b[0;34m(rootdir, metric_name, model_names, baselines_dict, label_keys, figsize, fext, p)\u001b[0m\n\u001b[1;32m     95\u001b[0m                                 \u001b[0mmetric_curve\u001b[0m \u001b[0;34m+=\u001b[0m \u001b[0;34m[\u001b[0m\u001b[0mrdict\u001b[0m\u001b[0;34m[\u001b[0m\u001b[0;34m'days_class_metrics_df'\u001b[0m\u001b[0;34m]\u001b[0m\u001b[0;34m[\u001b[0m\u001b[0mmetric_name\u001b[0m\u001b[0;34m]\u001b[0m\u001b[0;34m.\u001b[0m\u001b[0mvalues\u001b[0m\u001b[0;34m[\u001b[0m\u001b[0;34m:\u001b[0m\u001b[0;34m]\u001b[0m\u001b[0;34m[\u001b[0m\u001b[0;32mNone\u001b[0m\u001b[0;34m,\u001b[0m\u001b[0;34m:\u001b[0m\u001b[0;34m]\u001b[0m\u001b[0;34m]\u001b[0m\u001b[0;34m\u001b[0m\u001b[0;34m\u001b[0m\u001b[0m\n\u001b[1;32m     96\u001b[0m \u001b[0;34m\u001b[0m\u001b[0m\n\u001b[0;32m---> 97\u001b[0;31m                         \u001b[0mmetric_curve\u001b[0m \u001b[0;34m=\u001b[0m \u001b[0mnp\u001b[0m\u001b[0;34m.\u001b[0m\u001b[0mconcatenate\u001b[0m\u001b[0;34m(\u001b[0m\u001b[0mmetric_curve\u001b[0m\u001b[0;34m,\u001b[0m \u001b[0maxis\u001b[0m\u001b[0;34m=\u001b[0m\u001b[0;36m0\u001b[0m\u001b[0;34m)\u001b[0m\u001b[0;34m\u001b[0m\u001b[0;34m\u001b[0m\u001b[0m\n\u001b[0m\u001b[1;32m     98\u001b[0m                         \u001b[0mxe_metric_curve\u001b[0m \u001b[0;34m=\u001b[0m \u001b[0mdstats\u001b[0m\u001b[0;34m.\u001b[0m\u001b[0mXError\u001b[0m\u001b[0;34m(\u001b[0m\u001b[0mmetric_curve\u001b[0m\u001b[0;34m,\u001b[0m \u001b[0;36m0\u001b[0m\u001b[0;34m)\u001b[0m\u001b[0;34m\u001b[0m\u001b[0;34m\u001b[0m\u001b[0m\n\u001b[1;32m     99\u001b[0m                         \u001b[0mxe_curve_avg\u001b[0m \u001b[0;34m=\u001b[0m \u001b[0mdstats\u001b[0m\u001b[0;34m.\u001b[0m\u001b[0mXError\u001b[0m\u001b[0;34m(\u001b[0m\u001b[0mnp\u001b[0m\u001b[0;34m.\u001b[0m\u001b[0mmean\u001b[0m\u001b[0;34m(\u001b[0m\u001b[0mmetric_curve\u001b[0m\u001b[0;34m,\u001b[0m \u001b[0maxis\u001b[0m\u001b[0;34m=\u001b[0m\u001b[0;34m-\u001b[0m\u001b[0;36m1\u001b[0m\u001b[0;34m)\u001b[0m\u001b[0;34m,\u001b[0m \u001b[0;36m0\u001b[0m\u001b[0;34m)\u001b[0m\u001b[0;34m\u001b[0m\u001b[0;34m\u001b[0m\u001b[0m\n",
      "\u001b[0;32m<__array_function__ internals>\u001b[0m in \u001b[0;36mconcatenate\u001b[0;34m(*args, **kwargs)\u001b[0m\n",
      "\u001b[0;31mValueError\u001b[0m: need at least one array to concatenate"
     ]
    },
    {
     "data": {
      "image/png": "[encoded data removed]",
      "text/plain": [
       "<Figure size 936x504 with 2 Axes>"
      ]
     },
     "metadata": {
      "needs_background": "light"
     },
     "output_type": "display_data"
    }
   ],
   "source": [
    "%load_ext autoreload\n",
    "%autoreload 2\n",
    "from lcclassifier.results.plots import plot_metric\n",
    "\n",
    "label_keys = [\n",
    "    'cell',\n",
    "    'te-dims',\n",
    "    'rsc',\n",
    "]\n",
    "metric_name = 'b-accuracy'\n",
    "#metric_name = 'b-f1score'\n",
    "plot_metric(rootdir, metric_name, new_model_names, baselines_dict.get(cset_name, None), label_keys)"
   ]
  },
  {
   "cell_type": "markdown",
   "metadata": {},
   "source": [
    "# mse v/s days"
   ]
  },
  {
   "cell_type": "code",
   "execution_count": null,
   "metadata": {},
   "outputs": [],
   "source": [
    "%load_ext autoreload\n",
    "%autoreload 2\n",
    "from lcclassifier.results.plots import plot_mse\n",
    "\n",
    "plot_mse(rootdir, new_model_names)"
   ]
  },
  {
   "cell_type": "markdown",
   "metadata": {},
   "source": [
    "# f1score vs mse"
   ]
  },
  {
   "cell_type": "code",
   "execution_count": null,
   "metadata": {
    "scrolled": false
   },
   "outputs": [],
   "source": [
    "%load_ext autoreload\n",
    "%autoreload 2\n",
    "from lcclassifier.results.plots import plot_f1score_mse\n",
    "\n",
    "plot_f1score_mse(root_folder)"
   ]
  },
  {
   "cell_type": "markdown",
   "metadata": {},
   "source": [
    "# Temporal encoding"
   ]
  },
  {
   "cell_type": "code",
   "execution_count": null,
   "metadata": {},
   "outputs": [],
   "source": [
    "%load_ext autoreload\n",
    "%autoreload 2\n",
    "from lcclassifier.results.plots import plot_te_scores\n",
    "\n",
    "plot_te_scores(root_folder, error_scale=1.5)"
   ]
  },
  {
   "cell_type": "markdown",
   "metadata": {},
   "source": [
    "# Precision & recall"
   ]
  },
  {
   "cell_type": "code",
   "execution_count": null,
   "metadata": {},
   "outputs": [],
   "source": [
    "%matplotlib inline\n",
    "%load_ext autoreload\n",
    "%autoreload 2\n",
    "from ipywidgets import interact, fixed\n",
    "from flamingchoripan.myUtils.files import search_for_filedirs\n",
    "from src.results.plots import plot_precision_recall_classes\n",
    "\n",
    "def interact_f(model_name):\n",
    "    return plot_precision_recall_classes(root_folder, model_name)\n",
    "\n",
    "filedirs = search_for_filedirs(root_folder, fext='expmet', verbose=0)\n",
    "model_names = list(set([fd.split('/')[-2] for fd in filedirs]))\n",
    "interact(interact_f, model_name=model_names)"
   ]
  },
  {
   "cell_type": "code",
   "execution_count": null,
   "metadata": {
    "scrolled": false
   },
   "outputs": [],
   "source": [
    "%load_ext autoreload\n",
    "%autoreload 2\n",
    "from src.results.plots import plot_training_losses\n",
    "\n",
    "plot_training_losses(root_folder)"
   ]
  },
  {
   "cell_type": "markdown",
   "metadata": {},
   "source": [
    "# metrics & training times table"
   ]
  },
  {
   "cell_type": "code",
   "execution_count": null,
   "metadata": {
    "scrolled": false
   },
   "outputs": [],
   "source": [
    "%load_ext autoreload\n",
    "%autoreload 2\n",
    "from src.results.latex_tables import latex_table_metrics_days\n",
    "\n",
    "target_days = [15, 30, 60]\n",
    "latex_table_metrics_days(root_folder, target_days)"
   ]
  },
  {
   "cell_type": "code",
   "execution_count": null,
   "metadata": {},
   "outputs": [],
   "source": [
    "%load_ext autoreload\n",
    "%autoreload 2\n",
    "from src.results.latex_tables import latex_table_metrics_mean\n",
    "\n",
    "latex_table_metrics_mean(root_folder)"
   ]
  },
  {
   "cell_type": "code",
   "execution_count": null,
   "metadata": {
    "scrolled": false
   },
   "outputs": [],
   "source": [
    "%load_ext autoreload\n",
    "%autoreload 2\n",
    "from src.results.latex_tables import latex_table_parameters\n",
    "\n",
    "latex_table_parameters(root_folder)"
   ]
  },
  {
   "cell_type": "markdown",
   "metadata": {},
   "source": [
    "# confusion matrix plot"
   ]
  },
  {
   "cell_type": "code",
   "execution_count": null,
   "metadata": {
    "scrolled": false
   },
   "outputs": [],
   "source": [
    "%matplotlib inline\n",
    "%load_ext autoreload\n",
    "%autoreload 2\n",
    "from ipywidgets import interact, fixed\n",
    "from flamingchoripan.myUtils.files import search_for_filedirs, load_pickle\n",
    "from src.results.plots import plot_cm\n",
    "\n",
    "def interact_f(model_name, target_day):\n",
    "    return plot_cm(root_folder, model_name, target_day)\n",
    "\n",
    "filedirs = search_for_filedirs(root_folder, fext='expmet', verbose=0)\n",
    "model_names = list(set([fd.split('/')[-2] for fd in filedirs]))\n",
    "target_days = load_pickle(filedirs[0])['days'][::-1]\n",
    "interact(interact_f, model_name=model_names, target_day=target_days)"
   ]
  },
  {
   "cell_type": "code",
   "execution_count": null,
   "metadata": {},
   "outputs": [],
   "source": [
    "%load_ext autoreload\n",
    "%autoreload 2\n",
    "from ipywidgets import interact, fixed\n",
    "from flamingchoripan.myUtils.files import search_for_filedirs, load_pickle\n",
    "from src.results.plots import animation_cm\n",
    "\n",
    "filedirs = search_for_filedirs(root_folder, fext='expmet', verbose=0)\n",
    "model_names = list(set([fd.split('/')[-2] for fd in filedirs]))\n",
    "target_days = load_pickle(filedirs[0])['days']\n",
    "animation_cm(root_folder, model_names[0], target_days)"
   ]
  }
 ],
 "metadata": {
  "kernelspec": {
   "display_name": "Python 3",
   "language": "python",
   "name": "python3"
  },
  "language_info": {
   "codemirror_mode": {
    "name": "ipython",
    "version": 3
   },
   "file_extension": ".py",
   "mimetype": "text/x-python",
   "name": "python",
   "nbconvert_exporter": "python",
   "pygments_lexer": "ipython3",
   "version": "3.7.9"
  }
 },
 "nbformat": 4,
 "nbformat_minor": 2
}
