{
 "cells": [
  {
   "cell_type": "code",
   "execution_count": 1,
   "metadata": {},
   "outputs": [],
   "source": [
    "import sys\n",
    "sys.path.append('../') # or just install the module\n",
    "sys.path.append('../../fuzzy-torch') # or just install the module\n",
    "sys.path.append('../../fuzzy-tools') # or just install the module\n",
    "sys.path.append('../../astro-lightcurves-handler') # or just install the module"
   ]
  },
  {
   "cell_type": "code",
   "execution_count": 2,
   "metadata": {},
   "outputs": [
    {
     "data": {
      "text/plain": [
       "['mdl=ParallelTimeSelfAttn~in-dims=2~te-dims=6~enc-emb=g28-g28-g28.r28-r28-r28~dec-emb=g28-g28-g28.r28-r28-r28~b=1024~rsc=0~bypass=0']"
      ]
     },
     "execution_count": 2,
     "metadata": {},
     "output_type": "execute_result"
    }
   ],
   "source": [
    "%load_ext autoreload\n",
    "%autoreload 2\n",
    "from fuzzytools.files import get_roodirs\n",
    "\n",
    "rootdir = '../save'\n",
    "kf = '.'\n",
    "mode = 'fine-tuning'\n",
    "method = 'spm-mcmc-estw'\n",
    "\n",
    "cfilename = f'survey=alerceZTFv7.1~bands=gr~mode=onlySNe~method={method}'\n",
    "roodirs = get_roodirs(rootdir)\n",
    "model_names = [r.split('/')[-1] for r in roodirs if '~' in r] # patch\n",
    "model_names"
   ]
  },
  {
   "cell_type": "code",
   "execution_count": 3,
   "metadata": {
    "scrolled": false
   },
   "outputs": [
    {
     "name": "stdout",
     "output_type": "stream",
     "text": [
      "The autoreload extension is already loaded. To reload it, use:\n",
      "  %reload_ext autoreload\n"
     ]
    },
    {
     "ename": "KeyError",
     "evalue": "'test'",
     "output_type": "error",
     "traceback": [
      "\u001b[0;31m---------------------------------------------------------------------------\u001b[0m",
      "\u001b[0;31mKeyError\u001b[0m                                  Traceback (most recent call last)",
      "\u001b[0;32m<ipython-input-3-d767746cae83>\u001b[0m in \u001b[0;36m<module>\u001b[0;34m\u001b[0m\n\u001b[1;32m     25\u001b[0m     \u001b[0;34m'p'\u001b[0m\u001b[0;34m:\u001b[0m\u001b[0;36m5\u001b[0m\u001b[0;34m,\u001b[0m\u001b[0;34m\u001b[0m\u001b[0;34m\u001b[0m\u001b[0m\n\u001b[1;32m     26\u001b[0m }\n\u001b[0;32m---> 27\u001b[0;31m \u001b[0mplot_metric\u001b[0m\u001b[0;34m(\u001b[0m\u001b[0mrootdir\u001b[0m\u001b[0;34m,\u001b[0m \u001b[0mcfilename\u001b[0m\u001b[0;34m,\u001b[0m \u001b[0mkf\u001b[0m\u001b[0;34m,\u001b[0m \u001b[0mlcset_name\u001b[0m\u001b[0;34m,\u001b[0m \u001b[0mmodel_names\u001b[0m\u001b[0;34m,\u001b[0m \u001b[0mdmetrics\u001b[0m\u001b[0;34m,\u001b[0m \u001b[0;34m**\u001b[0m\u001b[0mkwargs\u001b[0m\u001b[0;34m)\u001b[0m\u001b[0;34m\u001b[0m\u001b[0;34m\u001b[0m\u001b[0m\n\u001b[0m",
      "\u001b[0;32m~/tesis/astro-lightcurves-classifier/lcclassifier/results/plots.py\u001b[0m in \u001b[0;36mplot_metric\u001b[0;34m(rootdir, cfilename, kf, lcset_name, model_names, dmetrics, baselines_dict, label_keys, figsize, train_mode, p, alpha)\u001b[0m\n\u001b[1;32m     32\u001b[0m                 \u001b[0;32mfor\u001b[0m \u001b[0mkmn\u001b[0m\u001b[0;34m,\u001b[0m\u001b[0mmodel_name\u001b[0m \u001b[0;32min\u001b[0m \u001b[0menumerate\u001b[0m\u001b[0;34m(\u001b[0m\u001b[0mmodel_names\u001b[0m\u001b[0;34m)\u001b[0m\u001b[0;34m:\u001b[0m\u001b[0;34m\u001b[0m\u001b[0;34m\u001b[0m\u001b[0m\n\u001b[1;32m     33\u001b[0m                         \u001b[0mload_roodir\u001b[0m \u001b[0;34m=\u001b[0m \u001b[0;34mf'{rootdir}/{model_name}/{train_mode}/performance/{cfilename}'\u001b[0m\u001b[0;34m\u001b[0m\u001b[0;34m\u001b[0m\u001b[0m\n\u001b[0;32m---> 34\u001b[0;31m                         \u001b[0mfiles\u001b[0m\u001b[0;34m,\u001b[0m \u001b[0mfiles_ids\u001b[0m \u001b[0;34m=\u001b[0m \u001b[0mfcfiles\u001b[0m\u001b[0;34m.\u001b[0m\u001b[0mgather_files_by_kfold\u001b[0m\u001b[0;34m(\u001b[0m\u001b[0mload_roodir\u001b[0m\u001b[0;34m,\u001b[0m \u001b[0mkf\u001b[0m\u001b[0;34m,\u001b[0m \u001b[0mlcset_name\u001b[0m\u001b[0;34m,\u001b[0m \u001b[0mfext\u001b[0m\u001b[0;34m=\u001b[0m\u001b[0;34m'd'\u001b[0m\u001b[0;34m)\u001b[0m\u001b[0;34m\u001b[0m\u001b[0;34m\u001b[0m\u001b[0m\n\u001b[0m\u001b[1;32m     35\u001b[0m                         \u001b[0mprint\u001b[0m\u001b[0;34m(\u001b[0m\u001b[0;34mf'ids={files_ids}(n={len(files_ids)}#) - model={model_name}'\u001b[0m\u001b[0;34m)\u001b[0m\u001b[0;34m\u001b[0m\u001b[0;34m\u001b[0m\u001b[0m\n\u001b[1;32m     36\u001b[0m                         \u001b[0;32mif\u001b[0m \u001b[0mlen\u001b[0m\u001b[0;34m(\u001b[0m\u001b[0mfiles\u001b[0m\u001b[0;34m)\u001b[0m\u001b[0;34m==\u001b[0m\u001b[0;36m0\u001b[0m\u001b[0;34m:\u001b[0m\u001b[0;34m\u001b[0m\u001b[0;34m\u001b[0m\u001b[0m\n",
      "\u001b[0;32m~/tesis/fuzzy-tools/fuzzytools/files.py\u001b[0m in \u001b[0;36mgather_files_by_kfold\u001b[0;34m(rootdir, kf, kf_set, id_key, key_key_separator, key_value_separator, fext, kf_str, create_dir)\u001b[0m\n\u001b[1;32m    431\u001b[0m         \u001b[0;31m#print('kfold_rootdirs_dict',kfold_rootdirs_dict)\u001b[0m\u001b[0;34m\u001b[0m\u001b[0;34m\u001b[0m\u001b[0;34m\u001b[0m\u001b[0m\n\u001b[1;32m    432\u001b[0m         \u001b[0;32mif\u001b[0m \u001b[0mkf\u001b[0m\u001b[0;34m==\u001b[0m\u001b[0;34m'.'\u001b[0m\u001b[0;34m:\u001b[0m \u001b[0;31m# gather all!\u001b[0m\u001b[0;34m\u001b[0m\u001b[0;34m\u001b[0m\u001b[0m\n\u001b[0;32m--> 433\u001b[0;31m                 \u001b[0mkfs\u001b[0m \u001b[0;34m=\u001b[0m \u001b[0mlist\u001b[0m\u001b[0;34m(\u001b[0m\u001b[0mkfold_rootdirs_dict\u001b[0m\u001b[0;34m[\u001b[0m\u001b[0mkf_set\u001b[0m\u001b[0;34m]\u001b[0m\u001b[0;34m.\u001b[0m\u001b[0mkeys\u001b[0m\u001b[0;34m(\u001b[0m\u001b[0;34m)\u001b[0m\u001b[0;34m)\u001b[0m\u001b[0;34m\u001b[0m\u001b[0;34m\u001b[0m\u001b[0m\n\u001b[0m\u001b[1;32m    434\u001b[0m                 \u001b[0mfiles\u001b[0m \u001b[0;34m=\u001b[0m \u001b[0;34m[\u001b[0m\u001b[0;34m]\u001b[0m\u001b[0;34m\u001b[0m\u001b[0;34m\u001b[0m\u001b[0m\n\u001b[1;32m    435\u001b[0m                 \u001b[0mfiles_ids\u001b[0m \u001b[0;34m=\u001b[0m \u001b[0;34m[\u001b[0m\u001b[0;34m]\u001b[0m\u001b[0;34m\u001b[0m\u001b[0;34m\u001b[0m\u001b[0m\n",
      "\u001b[0;31mKeyError\u001b[0m: 'test'"
     ]
    },
    {
     "data": {
      "image/png": "[encoded data removed]",
      "text/plain": [
       "<Figure size 1008x576 with 2 Axes>"
      ]
     },
     "metadata": {
      "needs_background": "light"
     },
     "output_type": "display_data"
    }
   ],
   "source": [
    "%load_ext autoreload\n",
    "%autoreload 2\n",
    "%matplotlib inline\n",
    "from lcclassifier.results.plots import plot_metric\n",
    "\n",
    "lcset_name = 'test'\n",
    "label_keys = [\n",
    "    'cell',\n",
    "    'aggr',\n",
    "    'te-dims',\n",
    "    'rsc',\n",
    "    'bypass',\n",
    "    'b',\n",
    "]\n",
    "dmetrics = {\n",
    "    #f'b-precision':{'k':1, 'mn':None},\n",
    "    #f'b-recall':{'k':1, 'mn':None},\n",
    "    #f'b-f1score':{'k':1, 'mn':None},\n",
    "    f'b-rocauc':{'k':1, 'mn':'b-AUCROC'},\n",
    "    #f'b-prauc':{'k':1, 'mn':'b-AUCPR'},\n",
    "    }\n",
    "kwargs = {\n",
    "    'label_keys':label_keys,\n",
    "    #'baselines_dict':baselines_dict,\n",
    "    'p':5,\n",
    "}\n",
    "plot_metric(rootdir, cfilename, kf, lcset_name, model_names, dmetrics, **kwargs)"
   ]
  },
  {
   "cell_type": "code",
   "execution_count": null,
   "metadata": {},
   "outputs": [],
   "source": [
    "assert 0"
   ]
  },
  {
   "cell_type": "code",
   "execution_count": null,
   "metadata": {
    "scrolled": false
   },
   "outputs": [],
   "source": [
    "%load_ext autoreload\n",
    "%autoreload 2\n",
    "from lcclassifier.results.tables import get_parallel_serial_df\n",
    "from fuzzytools.latex.latex_tables import LatexTable\n",
    "\n",
    "dmetrics = {\n",
    "    f'b-precision':{'k':1, 'mn':None},\n",
    "    f'b-recall':{'k':1, 'mn':None},\n",
    "    f'b-f1score':{'k':1, 'mn':None},\n",
    "    f'b-rocauc':{'k':1, 'mn':'b-AUCROC'},\n",
    "    #f'b-prauc':{'k':1, 'mn':'b-AUCPR'},\n",
    "    }\n",
    "kwargs = {\n",
    "    'uses_avg':1,\n",
    "    'day':100,\n",
    "    #'override_model_name':False, # False True\n",
    "    'label_keys':label_keys,\n",
    "    'baseline_filedir':f'../temp/baseline~mode=all.df',\n",
    "    }\n",
    "info_df = get_parallel_serial_df(rootdir, cfilename, kf, lcset_name, model_names, dmetrics, **kwargs)\n",
    "display(info_df())\n",
    "\n",
    "caption = ''\n",
    "caption += f'Baseline method v/s deep learning models.'\n",
    "latex_kwargs = {\n",
    "    'caption':caption,\n",
    "    'label':'?',\n",
    "    'bold_axis':'columns',\n",
    "}\n",
    "latex_table = LatexTable(info_df(), **latex_kwargs)\n",
    "print(latex_table)"
   ]
  },
  {
   "cell_type": "code",
   "execution_count": null,
   "metadata": {
    "scrolled": false
   },
   "outputs": [],
   "source": [
    "%load_ext autoreload\n",
    "%autoreload 2\n",
    "from lcclassifier.results.plots import plot_cm\n",
    "\n",
    "label_keys = [\n",
    "    'cell',\n",
    "    'aggr',\n",
    "    'te-dims',\n",
    "]\n",
    "lcset_name = 'test'\n",
    "kwargs = {\n",
    "    'label_keys':label_keys,\n",
    "    'export_animation':False, # False True\n",
    "}\n",
    "plot_cm(rootdir, cfilename, kf, lcset_name, model_names, **kwargs)"
   ]
  },
  {
   "cell_type": "code",
   "execution_count": null,
   "metadata": {
    "scrolled": false
   },
   "outputs": [],
   "source": [
    "%load_ext autoreload\n",
    "%autoreload 2\n",
    "from lcclassifier.results.plots import plot_temporal_encoding\n",
    "\n",
    "label_keys = [\n",
    "    'cell',\n",
    "    'aggr',\n",
    "    'te-dims',\n",
    "]\n",
    "lcset_name = f'train.{method}'\n",
    "kwargs = {\n",
    "    'label_keys':label_keys,\n",
    "}\n",
    "plot_temporal_encoding(rootdir, cfilename, kf, lcset_name, model_names, **kwargs)"
   ]
  },
  {
   "cell_type": "code",
   "execution_count": null,
   "metadata": {},
   "outputs": [],
   "source": [
    "assert 0"
   ]
  },
  {
   "cell_type": "code",
   "execution_count": null,
   "metadata": {},
   "outputs": [],
   "source": []
  },
  {
   "cell_type": "code",
   "execution_count": null,
   "metadata": {},
   "outputs": [],
   "source": []
  },
  {
   "cell_type": "code",
   "execution_count": null,
   "metadata": {},
   "outputs": [],
   "source": []
  },
  {
   "cell_type": "code",
   "execution_count": null,
   "metadata": {},
   "outputs": [],
   "source": [
    "%load_ext autoreload\n",
    "%autoreload 2\n",
    "from lcclassifier.results.times import get_times_df\n",
    "\n",
    "kwargs = {\n",
    "    'label_keys':label_keys,\n",
    "    }\n",
    "info_df = get_times_df(rootdir, cfilename, kf, method, model_names, **kwargs)\n",
    "info_df"
   ]
  },
  {
   "cell_type": "code",
   "execution_count": null,
   "metadata": {},
   "outputs": [],
   "source": []
  }
 ],
 "metadata": {
  "kernelspec": {
   "display_name": "Python 3",
   "language": "python",
   "name": "python3"
  },
  "language_info": {
   "codemirror_mode": {
    "name": "ipython",
    "version": 3
   },
   "file_extension": ".py",
   "mimetype": "text/x-python",
   "name": "python",
   "nbconvert_exporter": "python",
   "pygments_lexer": "ipython3",
   "version": "3.7.3"
  }
 },
 "nbformat": 4,
 "nbformat_minor": 2
}
