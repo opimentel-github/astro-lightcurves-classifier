{
 "cells": [
  {
   "cell_type": "code",
   "execution_count": null,
   "metadata": {},
   "outputs": [],
   "source": [
    "import numpy as np\n",
    "import matplotlib.pyplot as plt\n",
    "from flamingchoripan.cuteplots.animations import PlotAnimation\n",
    "\n",
    "def get_random_f(T):\n",
    "    a, b = np.random.uniform(-1, 1, size=(2))\n",
    "    return get_f(a,b,T)\n",
    "\n",
    "def get_fourier_serie(a, b, T):\n",
    "    return a*np.sin(2*np.pi*t/T)+b*np.cos(2*np.pi*t/T)\n",
    "\n",
    "m = 100\n",
    "animation = PlotAnimation(10, init_offset=0, end_offset=0)\n",
    "for _ in range(m):\n",
    "    fig, ax = plt.subplots(1,1, figsize=(10,4))\n",
    "    t = np.linspace(0,100,1000)\n",
    "    T = 110\n",
    "    n = 4\n",
    "    alpha = sum([get_random_f(T/(i+1)) for i in range(0,n//2)])\n",
    "    beta = sum([get_random_f(T/(i+1)) for i in range(0,n//2)])\n",
    "    ax.plot(t, alpha, 'r', label='scale')\n",
    "    ax.plot(t, beta, 'g', label='bias')\n",
    "    ax.set_title(f'N={n}')\n",
    "    ax.grid(alpha=0.5)\n",
    "    ax.legend(loc='upper left')\n",
    "    ax.set_ylim([-5,5])\n",
    "    ax.set_xlabel('time [days]')\n",
    "    animation.append(fig)\n",
    "    #plt.plot()\n",
    "    \n",
    "animation.save(f'../temp/fourier{n}.gif')"
   ]
  }
 ],
 "metadata": {
  "kernelspec": {
   "display_name": "Python 3",
   "language": "python",
   "name": "python3"
  },
  "language_info": {
   "codemirror_mode": {
    "name": "ipython",
    "version": 3
   },
   "file_extension": ".py",
   "mimetype": "text/x-python",
   "name": "python",
   "nbconvert_exporter": "python",
   "pygments_lexer": "ipython3",
   "version": "3.7.9"
  }
 },
 "nbformat": 4,
 "nbformat_minor": 4
}
