{
 "cells": [
  {
   "cell_type": "code",
   "execution_count": 1,
   "id": "6982036a",
   "metadata": {},
   "outputs": [],
   "source": [
    "import sys\n",
    "sys.path.append('../') # or just install the module\n",
    "sys.path.append('../../fuzzy-torch') # or just install the module\n",
    "sys.path.append('../../fuzzy-tools') # or just install the module\n",
    "sys.path.append('../../astro-lightcurves-handler') # or just install the module"
   ]
  },
  {
   "cell_type": "code",
   "execution_count": 2,
   "id": "b2688d6d",
   "metadata": {},
   "outputs": [
    {
     "data": {
      "text/plain": [
       "['mdl=ParallelTimeModAttn~input_dims=1~m=2~kernel_size=1~heads=4~fourier_dims=1~time_noise_window=0*24**-1~enc_emb=g64-g64.r64-r64~dec_emb=g1-g128.r1-r128~b=129',\n",
       " 'mdl=SerialTimeModAttn~input_dims=1~m=2~kernel_size=1~heads=4~fourier_dims=1~time_noise_window=0*24**-1~enc_emb=128-128~dec_emb=g1-g128.r1-r128~b=129',\n",
       " 'mdl=ParallelTimeModAttn~input_dims=1~m=2~kernel_size=1~heads=4~fourier_dims=1~time_noise_window=12*24**-1~enc_emb=g64-g64.r64-r64~dec_emb=g1-g128.r1-r128~b=129',\n",
       " 'mdl=ParallelTimeModAttn~input_dims=1~m=4~kernel_size=1~heads=4~fourier_dims=1~time_noise_window=0*24**-1~enc_emb=g64-g64.r64-r64~dec_emb=g1-g128.r1-r128~b=129',\n",
       " 'mdl=SerialTimeModAttn~input_dims=1~m=4~kernel_size=1~heads=4~fourier_dims=1~time_noise_window=0*24**-1~enc_emb=128-128~dec_emb=g1-g128.r1-r128~b=129',\n",
       " 'mdl=ParallelTimeModAttn~input_dims=1~m=2~kernel_size=1~heads=4~fourier_dims=1~time_noise_window=24*24**-1~enc_emb=g64-g64.r64-r64~dec_emb=g1-g128.r1-r128~b=129',\n",
       " 'mdl=SerialTimeModAttn~input_dims=1~m=8~kernel_size=1~heads=4~fourier_dims=1~time_noise_window=0*24**-1~enc_emb=128-128~dec_emb=g1-g128.r1-r128~b=129',\n",
       " 'mdl=SerialTimeModAttn~input_dims=1~m=16~kernel_size=1~heads=4~fourier_dims=1~time_noise_window=0*24**-1~enc_emb=128-128~dec_emb=g1-g128.r1-r128~b=129',\n",
       " 'mdl=ParallelRNN~input_dims=1~enc_emb=g64-g64.r64-r64~dec_emb=g1-g128.r1-r128~cell=GRU~b=129',\n",
       " 'mdl=ParallelRNN~input_dims=1~enc_emb=g64-g64.r64-r64~dec_emb=g1-g128.r1-r128~cell=LSTM~b=129',\n",
       " 'mdl=SerialRNN~input_dims=1~enc_emb=128-128~dec_emb=g1-g128.r1-r128~cell=GRU~b=129',\n",
       " 'mdl=SerialTimeModAttn~input_dims=1~m=2~kernel_size=1~heads=4~fourier_dims=1~time_noise_window=12*24**-1~enc_emb=128-128~dec_emb=g1-g128.r1-r128~b=129',\n",
       " 'mdl=ParallelTimeModAttn~input_dims=1~m=8~kernel_size=1~heads=4~fourier_dims=1~time_noise_window=0*24**-1~enc_emb=g64-g64.r64-r64~dec_emb=g1-g128.r1-r128~b=129',\n",
       " 'mdl=ParallelTimeModAttn~input_dims=1~m=16~kernel_size=1~heads=4~fourier_dims=1~time_noise_window=0*24**-1~enc_emb=g64-g64.r64-r64~dec_emb=g1-g128.r1-r128~b=129',\n",
       " 'mdl=SerialTimeModAttn~input_dims=1~m=2~kernel_size=1~heads=4~fourier_dims=1~time_noise_window=6*24**-1~enc_emb=128-128~dec_emb=g1-g128.r1-r128~b=129',\n",
       " 'mdl=SerialRNN~input_dims=1~enc_emb=128-128~dec_emb=g1-g128.r1-r128~cell=LSTM~b=129',\n",
       " 'mdl=ParallelTimeModAttn~input_dims=1~m=16~kernel_size=1~heads=4~fourier_dims=1~time_noise_window=6*24**-1~enc_emb=g64-g64.r64-r64~dec_emb=g1-g128.r1-r128~b=129',\n",
       " 'mdl=ParallelTimeModAttn~input_dims=1~m=2~kernel_size=1~heads=4~fourier_dims=1~time_noise_window=6*24**-1~enc_emb=g64-g64.r64-r64~dec_emb=g1-g128.r1-r128~b=129',\n",
       " 'mdl=SerialTimeModAttn~input_dims=1~m=2~kernel_size=1~heads=4~fourier_dims=1~time_noise_window=24*24**-1~enc_emb=128-128~dec_emb=g1-g128.r1-r128~b=129']"
      ]
     },
     "execution_count": 2,
     "metadata": {},
     "output_type": "execute_result"
    }
   ],
   "source": [
    "%load_ext autoreload\n",
    "%autoreload 2\n",
    "from lcclassifier.results.utils import get_model_names\n",
    "\n",
    "lcset_name = 'test'\n",
    "rootdir = '../save'\n",
    "method = 'spm-mcmc-estw'\n",
    "cfilename = f'survey=alerceZTFv7.1~bands=gr~mode=onlySNe~method={method}'\n",
    "kf = '0'\n",
    "\n",
    "model_names = get_model_names(rootdir, cfilename, kf, lcset_name)\n",
    "#model_names = [mn for mn in model_names if 'SelfAttn' in mn]\n",
    "#model_names = [mn for mn in model_names if 'b=129' in mn]\n",
    "model_names"
   ]
  },
  {
   "cell_type": "code",
   "execution_count": 3,
   "id": "1a39c381",
   "metadata": {},
   "outputs": [
    {
     "name": "stdout",
     "output_type": "stream",
     "text": [
      "The autoreload extension is already loaded. To reload it, use:\n",
      "  %reload_ext autoreload\n"
     ]
    }
   ],
   "source": [
    "%load_ext autoreload\n",
    "%autoreload 2\n",
    "import fuzzytools.files as files\n",
    "import matplotlib.pyplot as plt\n",
    "from fuzzytools.matplotlib.scatters import scatter\n",
    "from fuzzytools.matplotlib.lims import AxisLims\n",
    "from fuzzytools.cuteplots.animators import PlotAnimator\n",
    "import numpy as np\n",
    "from lcclassifier.C_ import CLASSES_STYLES\n",
    "from copy import copy, deepcopy\n",
    "\n",
    "#model_name = 'test/mdl=ParallelTimeModAttn~input_dims=1~m=2~kernel_size=1~heads=4~fourier_dims=1~time_noise_window=6*24**-1~enc_emb=g64-g64.r64-r64~dec_emb=g1-g128.r1-r128~b=129'\n",
    "model_name = 'test/mdl=ParallelTimeModAttn~input_dims=1~m=2~kernel_size=1~heads=4~fourier_dims=1~time_noise_window=0*24**-1~enc_emb=g64-g64.r64-r64~dec_emb=g1-g128.r1-r128~b=129'\n",
    "filedir = f'../save/{model_name}/pre-training/dim_reductions/{cfilename}/0@test/id=1000.d'\n",
    "d = files.load_pickle(filedir)\n",
    "days = d['days']\n",
    "\n",
    "plot_animator = PlotAnimator()\n",
    "axis_lims = AxisLims({'x':(None, None), 'y':(None, None)})\n",
    "for day in days:\n",
    "    axis_lims.append('x', d['days_dim_reductions'][day][:,0])\n",
    "    axis_lims.append('y', d['days_dim_reductions'][day][:,1])\n",
    "\n",
    "figsize = (14,14)\n",
    "for day in days[::1]:\n",
    "    x = d['days_dim_reductions'][day]\n",
    "    y = d['days_y_true'][day]\n",
    "    class_names = d['class_names']\n",
    "    fig, ax = plt.subplots(1, 1, figsize=figsize)\n",
    "    s = 25\n",
    "    scatter_kwargs = {}\n",
    "    for k in CLASSES_STYLES.keys():\n",
    "        scatter_kwargs[k] = {\n",
    "            's':s,\n",
    "            'color':CLASSES_STYLES[k]['c'],\n",
    "            'marker':CLASSES_STYLES[k]['marker'],\n",
    "            }\n",
    "    scatter(ax, x, y, class_names, scatter_kwargs)\n",
    "    ax.set_title(f'day={day:.3f} [days]')\n",
    "    ax.legend(loc='lower left')\n",
    "    axis_lims.set_ax_axis_lims(ax)\n",
    "    ax.grid(alpha=.5);ax.set_axisbelow(True)\n",
    "    plot_animator.append(fig)\n",
    "    fig.tight_layout()\n",
    "    plt.show()\n",
    "    #break\n",
    "plot_animator.save('../temp/e.gif') # gif mp4"
   ]
  }
 ],
 "metadata": {
  "kernelspec": {
   "display_name": "Python 3",
   "language": "python",
   "name": "python3"
  },
  "language_info": {
   "codemirror_mode": {
    "name": "ipython",
    "version": 3
   },
   "file_extension": ".py",
   "mimetype": "text/x-python",
   "name": "python",
   "nbconvert_exporter": "python",
   "pygments_lexer": "ipython3",
   "version": "3.7.10"
  }
 },
 "nbformat": 4,
 "nbformat_minor": 5
}
