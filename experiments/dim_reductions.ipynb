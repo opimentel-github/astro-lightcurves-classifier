{
 "cells": [
  {
   "cell_type": "code",
   "execution_count": 1,
   "id": "fe0bd525",
   "metadata": {},
   "outputs": [],
   "source": [
    "import sys\n",
    "sys.path.append('../') # or just install the module\n",
    "sys.path.append('../../fuzzy-torch') # or just install the module\n",
    "sys.path.append('../../fuzzy-tools') # or just install the module\n",
    "sys.path.append('../../astro-lightcurves-handler') # or just install the module"
   ]
  },
  {
   "cell_type": "code",
   "execution_count": 2,
   "id": "737ac69d",
   "metadata": {},
   "outputs": [
    {
     "data": {
      "text/plain": [
       "['mdl=ParallelTimeModAttn~input_dims=1~m=2~kernel_size=1~heads=4~fourier_dims=1~time_noise_window=6*24**-1~enc_emb=g64-g64.r64-r64~dec_emb=g1-g128.r1-r128~b=129',\n",
       " 'mdl=ParallelTimeModAttn~input_dims=1~m=2~kernel_size=1~heads=4~fourier_dims=1~time_noise_window=0*24**-1~enc_emb=g64-g64.r64-r64~dec_emb=g1-g128.r1-r128~b=129']"
      ]
     },
     "execution_count": 2,
     "metadata": {},
     "output_type": "execute_result"
    }
   ],
   "source": [
    "%load_ext autoreload\n",
    "%autoreload 2\n",
    "from lcclassifier.results.utils import get_model_names\n",
    "\n",
    "lcset_name = 'test'\n",
    "rootdir = '../save'\n",
    "method = 'spm-mcmc-estw'\n",
    "cfilename = f'survey=alerceZTFv7.1~bands=gr~mode=onlySNe~method={method}'\n",
    "kf = '0'\n",
    "\n",
    "model_names = get_model_names(rootdir, cfilename, kf, lcset_name)\n",
    "#model_names = [mn for mn in model_names if 'SelfAttn' in mn]\n",
    "#model_names = [mn for mn in model_names if 'b=129' in mn]\n",
    "model_names"
   ]
  },
  {
   "cell_type": "code",
   "execution_count": 4,
   "id": "013d933a",
   "metadata": {},
   "outputs": [
    {
     "ename": "Exception",
     "evalue": "no file in ../save/mdl=ParallelTimeModAttn~input_dims=1~m=2~kernel_size=1~heads=4~fourier_dims=1~time_noise_window=0*24**-1~enc_emb=g64-g64.r64-r64~dec_emb=g1-g128.r1-r128~b=129",
     "output_type": "error",
     "traceback": [
      "\u001b[0;31m---------------------------------------------------------------------------\u001b[0m",
      "\u001b[0;31mException\u001b[0m                                 Traceback (most recent call last)",
      "\u001b[0;32m<ipython-input-4-a7b0d26cb092>\u001b[0m in \u001b[0;36m<module>\u001b[0;34m\u001b[0m\n\u001b[1;32m      6\u001b[0m \u001b[0mfiledir\u001b[0m \u001b[0;34m=\u001b[0m \u001b[0;34mf'../save/{model_name}'\u001b[0m\u001b[0;34m\u001b[0m\u001b[0;34m\u001b[0m\u001b[0m\n\u001b[1;32m      7\u001b[0m \u001b[0;31m#/pre-training/dim_reductions/survey=alerceZTFv7.1~bands=gr~mode=onlySNe~method=spm-mcmc-estw/0@test/id=1000.d'\u001b[0m\u001b[0;34m\u001b[0m\u001b[0;34m\u001b[0m\u001b[0;34m\u001b[0m\u001b[0m\n\u001b[0;32m----> 8\u001b[0;31m \u001b[0md\u001b[0m \u001b[0;34m=\u001b[0m \u001b[0mfiles\u001b[0m\u001b[0;34m.\u001b[0m\u001b[0mload_pickle\u001b[0m\u001b[0;34m(\u001b[0m\u001b[0mfiledir\u001b[0m\u001b[0;34m)\u001b[0m\u001b[0;34m\u001b[0m\u001b[0;34m\u001b[0m\u001b[0m\n\u001b[0m\u001b[1;32m      9\u001b[0m \u001b[0mdays\u001b[0m \u001b[0;34m=\u001b[0m \u001b[0md\u001b[0m\u001b[0;34m[\u001b[0m\u001b[0;34m'days'\u001b[0m\u001b[0;34m]\u001b[0m\u001b[0;34m\u001b[0m\u001b[0;34m\u001b[0m\u001b[0m\n\u001b[1;32m     10\u001b[0m \u001b[0;32mfor\u001b[0m \u001b[0mday\u001b[0m \u001b[0;32min\u001b[0m \u001b[0mdays\u001b[0m\u001b[0;34m[\u001b[0m\u001b[0;34m:\u001b[0m\u001b[0;34m:\u001b[0m\u001b[0;36m2\u001b[0m\u001b[0;34m]\u001b[0m\u001b[0;34m:\u001b[0m\u001b[0;34m\u001b[0m\u001b[0;34m\u001b[0m\u001b[0m\n",
      "\u001b[0;32m~/tesis/fuzzy-tools/fuzzytools/files.py\u001b[0m in \u001b[0;36mload_pickle\u001b[0;34m(filedir, return_none_if_missing, verbose)\u001b[0m\n\u001b[1;32m    131\u001b[0m                         \u001b[0;32mreturn\u001b[0m \u001b[0;32mNone\u001b[0m\u001b[0;34m\u001b[0m\u001b[0;34m\u001b[0m\u001b[0m\n\u001b[1;32m    132\u001b[0m                 \u001b[0;32melse\u001b[0m\u001b[0;34m:\u001b[0m\u001b[0;34m\u001b[0m\u001b[0;34m\u001b[0m\u001b[0m\n\u001b[0;32m--> 133\u001b[0;31m                         \u001b[0;32mraise\u001b[0m \u001b[0mException\u001b[0m\u001b[0;34m(\u001b[0m\u001b[0;34mf'no file in {filedir}'\u001b[0m\u001b[0;34m)\u001b[0m\u001b[0;34m\u001b[0m\u001b[0;34m\u001b[0m\u001b[0m\n\u001b[0m\u001b[1;32m    134\u001b[0m \u001b[0;34m\u001b[0m\u001b[0m\n\u001b[1;32m    135\u001b[0m         \u001b[0;32mif\u001b[0m \u001b[0mverbose\u001b[0m\u001b[0;34m==\u001b[0m\u001b[0;36m1\u001b[0m\u001b[0;34m:\u001b[0m\u001b[0;34m\u001b[0m\u001b[0;34m\u001b[0m\u001b[0m\n",
      "\u001b[0;31mException\u001b[0m: no file in ../save/mdl=ParallelTimeModAttn~input_dims=1~m=2~kernel_size=1~heads=4~fourier_dims=1~time_noise_window=0*24**-1~enc_emb=g64-g64.r64-r64~dec_emb=g1-g128.r1-r128~b=129"
     ]
    }
   ],
   "source": [
    "import fuzzytools.files as files\n",
    "import matplotlib.pyplot as plt\n",
    "from fuzzytools.matplotlib.scatters import scatter\n",
    "\n",
    "model_name = 'mdl=ParallelTimeModAttn~input_dims=1~m=2~kernel_size=1~heads=4~fourier_dims=1~time_noise_window=0*24**-1~enc_emb=g64-g64.r64-r64~dec_emb=g1-g128.r1-r128~b=129'\n",
    "filedir = f'../save/{model_name}'\n",
    "#/pre-training/dim_reductions/survey=alerceZTFv7.1~bands=gr~mode=onlySNe~method=spm-mcmc-estw/0@test/id=1000.d'\n",
    "d = files.load_pickle(filedir)\n",
    "days = d['days']\n",
    "for day in days[::2]:\n",
    "    x = d['days_dim_reductions'][day]\n",
    "    y = d['days_y_true'][day]\n",
    "    class_names = d['class_names']\n",
    "    fig, ax = plt.subplots(1,1, figsize=(8,8))\n",
    "    s = 20\n",
    "    scatter_kwargs = {\n",
    "        'SLSN':{'c':'r', 's':s},\n",
    "        'SNIa':{'c':'b', 's':s},\n",
    "        'SNII-b-n':{'c':'k', 's':s},\n",
    "        'SNIbc':{'c':'m', 's':s},\n",
    "    }\n",
    "    scatter(ax, x, y, class_names, scatter_kwargs)\n",
    "    ax.set_title(day)\n",
    "    ax.legend()\n",
    "    plt.show()"
   ]
  }
 ],
 "metadata": {
  "kernelspec": {
   "display_name": "Python 3",
   "language": "python",
   "name": "python3"
  },
  "language_info": {
   "codemirror_mode": {
    "name": "ipython",
    "version": 3
   },
   "file_extension": ".py",
   "mimetype": "text/x-python",
   "name": "python",
   "nbconvert_exporter": "python",
   "pygments_lexer": "ipython3",
   "version": "3.7.10"
  }
 },
 "nbformat": 4,
 "nbformat_minor": 5
}
